{
 "cells": [
  {
   "cell_type": "code",
   "execution_count": 21,
   "id": "contained-dispatch",
   "metadata": {},
   "outputs": [],
   "source": [
    "import pandas as pd\n",
    "import numpy as np\n",
    "%matplotlib inline\n",
    "import matplotlib.pyplot as plt\n",
    "import seaborn as sns\n",
    "import warnings\n",
    "warnings.filterwarnings(\"ignore\")\n",
    "\n",
    "plt.rcParams['font.sans-serif'] = ['SimHei']\n",
    "dt = pd.read_csv(r\"D:\\Amy\\taobao_behavior_analysist\\tianchi_mobile_recommend_train_user.csv\")"
   ]
  },
  {
   "cell_type": "code",
   "execution_count": 2,
   "id": "thousand-cornell",
   "metadata": {},
   "outputs": [
    {
     "data": {
      "text/html": [
       "<div>\n",
       "<style scoped>\n",
       "    .dataframe tbody tr th:only-of-type {\n",
       "        vertical-align: middle;\n",
       "    }\n",
       "\n",
       "    .dataframe tbody tr th {\n",
       "        vertical-align: top;\n",
       "    }\n",
       "\n",
       "    .dataframe thead th {\n",
       "        text-align: right;\n",
       "    }\n",
       "</style>\n",
       "<table border=\"1\" class=\"dataframe\">\n",
       "  <thead>\n",
       "    <tr style=\"text-align: right;\">\n",
       "      <th></th>\n",
       "      <th>user_id</th>\n",
       "      <th>item_id</th>\n",
       "      <th>behavior_type</th>\n",
       "      <th>user_geohash</th>\n",
       "      <th>item_category</th>\n",
       "      <th>time</th>\n",
       "    </tr>\n",
       "  </thead>\n",
       "  <tbody>\n",
       "    <tr>\n",
       "      <th>0</th>\n",
       "      <td>98047837</td>\n",
       "      <td>232431562</td>\n",
       "      <td>1</td>\n",
       "      <td>NaN</td>\n",
       "      <td>4245</td>\n",
       "      <td>2014-12-06 02</td>\n",
       "    </tr>\n",
       "    <tr>\n",
       "      <th>1</th>\n",
       "      <td>97726136</td>\n",
       "      <td>383583590</td>\n",
       "      <td>1</td>\n",
       "      <td>NaN</td>\n",
       "      <td>5894</td>\n",
       "      <td>2014-12-09 20</td>\n",
       "    </tr>\n",
       "    <tr>\n",
       "      <th>2</th>\n",
       "      <td>98607707</td>\n",
       "      <td>64749712</td>\n",
       "      <td>1</td>\n",
       "      <td>NaN</td>\n",
       "      <td>2883</td>\n",
       "      <td>2014-12-18 11</td>\n",
       "    </tr>\n",
       "    <tr>\n",
       "      <th>3</th>\n",
       "      <td>98662432</td>\n",
       "      <td>320593836</td>\n",
       "      <td>1</td>\n",
       "      <td>96nn52n</td>\n",
       "      <td>6562</td>\n",
       "      <td>2014-12-06 10</td>\n",
       "    </tr>\n",
       "    <tr>\n",
       "      <th>4</th>\n",
       "      <td>98145908</td>\n",
       "      <td>290208520</td>\n",
       "      <td>1</td>\n",
       "      <td>NaN</td>\n",
       "      <td>13926</td>\n",
       "      <td>2014-12-16 21</td>\n",
       "    </tr>\n",
       "    <tr>\n",
       "      <th>...</th>\n",
       "      <td>...</td>\n",
       "      <td>...</td>\n",
       "      <td>...</td>\n",
       "      <td>...</td>\n",
       "      <td>...</td>\n",
       "      <td>...</td>\n",
       "    </tr>\n",
       "    <tr>\n",
       "      <th>12256901</th>\n",
       "      <td>93812622</td>\n",
       "      <td>378365755</td>\n",
       "      <td>1</td>\n",
       "      <td>95q6d6a</td>\n",
       "      <td>11</td>\n",
       "      <td>2014-12-13 21</td>\n",
       "    </tr>\n",
       "    <tr>\n",
       "      <th>12256902</th>\n",
       "      <td>93812622</td>\n",
       "      <td>177724753</td>\n",
       "      <td>1</td>\n",
       "      <td>NaN</td>\n",
       "      <td>12311</td>\n",
       "      <td>2014-12-14 21</td>\n",
       "    </tr>\n",
       "    <tr>\n",
       "      <th>12256903</th>\n",
       "      <td>93812622</td>\n",
       "      <td>234391443</td>\n",
       "      <td>1</td>\n",
       "      <td>NaN</td>\n",
       "      <td>8765</td>\n",
       "      <td>2014-12-11 16</td>\n",
       "    </tr>\n",
       "    <tr>\n",
       "      <th>12256904</th>\n",
       "      <td>93812622</td>\n",
       "      <td>26452000</td>\n",
       "      <td>1</td>\n",
       "      <td>95q6dqc</td>\n",
       "      <td>7951</td>\n",
       "      <td>2014-12-08 22</td>\n",
       "    </tr>\n",
       "    <tr>\n",
       "      <th>12256905</th>\n",
       "      <td>108404535</td>\n",
       "      <td>362699797</td>\n",
       "      <td>1</td>\n",
       "      <td>NaN</td>\n",
       "      <td>9847</td>\n",
       "      <td>2014-12-03 19</td>\n",
       "    </tr>\n",
       "  </tbody>\n",
       "</table>\n",
       "<p>12256906 rows × 6 columns</p>\n",
       "</div>"
      ],
      "text/plain": [
       "            user_id    item_id  behavior_type user_geohash  item_category  \\\n",
       "0          98047837  232431562              1          NaN           4245   \n",
       "1          97726136  383583590              1          NaN           5894   \n",
       "2          98607707   64749712              1          NaN           2883   \n",
       "3          98662432  320593836              1      96nn52n           6562   \n",
       "4          98145908  290208520              1          NaN          13926   \n",
       "...             ...        ...            ...          ...            ...   \n",
       "12256901   93812622  378365755              1      95q6d6a             11   \n",
       "12256902   93812622  177724753              1          NaN          12311   \n",
       "12256903   93812622  234391443              1          NaN           8765   \n",
       "12256904   93812622   26452000              1      95q6dqc           7951   \n",
       "12256905  108404535  362699797              1          NaN           9847   \n",
       "\n",
       "                   time  \n",
       "0         2014-12-06 02  \n",
       "1         2014-12-09 20  \n",
       "2         2014-12-18 11  \n",
       "3         2014-12-06 10  \n",
       "4         2014-12-16 21  \n",
       "...                 ...  \n",
       "12256901  2014-12-13 21  \n",
       "12256902  2014-12-14 21  \n",
       "12256903  2014-12-11 16  \n",
       "12256904  2014-12-08 22  \n",
       "12256905  2014-12-03 19  \n",
       "\n",
       "[12256906 rows x 6 columns]"
      ]
     },
     "execution_count": 2,
     "metadata": {},
     "output_type": "execute_result"
    }
   ],
   "source": [
    "dt"
   ]
  },
  {
   "cell_type": "markdown",
   "id": "outstanding-edmonton",
   "metadata": {},
   "source": [
    "# 给列明重命名"
   ]
  },
  {
   "cell_type": "code",
   "execution_count": 22,
   "id": "japanese-river",
   "metadata": {},
   "outputs": [],
   "source": [
    "dt = dt.rename(columns={'user_id':'用户名','item_id':'商品名','behavior_type':'用户行为类型','user_geohash':'地理位置','InvoiceDate':'发票日期',\n",
    "                            'item_category':'品类名','CustomerID':'用户名','time':'行为时间'})"
   ]
  },
  {
   "cell_type": "code",
   "execution_count": 5,
   "id": "working-charlotte",
   "metadata": {},
   "outputs": [
    {
     "data": {
      "text/plain": [
       "用户名       0.00000\n",
       "商品名       0.00000\n",
       "用户行为类型    0.00000\n",
       "地理位置      0.68001\n",
       "品类名       0.00000\n",
       "行为时间      0.00000\n",
       "dtype: float64"
      ]
     },
     "execution_count": 5,
     "metadata": {},
     "output_type": "execute_result"
    }
   ],
   "source": [
    "#计算缺失率\n",
    "dt.apply(lambda x:sum(x.isnull())/len(x))"
   ]
  },
  {
   "cell_type": "markdown",
   "id": "eight-mayor",
   "metadata": {},
   "source": [
    "# 时间格式"
   ]
  },
  {
   "cell_type": "code",
   "execution_count": 23,
   "id": "alike-division",
   "metadata": {},
   "outputs": [],
   "source": [
    "dt['date']=dt['行为时间'].str[0:10]\n",
    "dt['date']=pd.to_datetime(dt['date']) #取年份并进行日期转换\n",
    "\n",
    "dt['hour']=dt['行为时间'].str[11:]\n",
    "dt['hour']=dt['hour'].astype(int)"
   ]
  },
  {
   "cell_type": "code",
   "execution_count": 6,
   "id": "placed-liverpool",
   "metadata": {},
   "outputs": [
    {
     "data": {
      "text/plain": [
       "0          2014-12-06\n",
       "1          2014-12-09\n",
       "2          2014-12-18\n",
       "3          2014-12-06\n",
       "4          2014-12-16\n",
       "              ...    \n",
       "12256901   2014-12-13\n",
       "12256902   2014-12-14\n",
       "12256903   2014-12-11\n",
       "12256904   2014-12-08\n",
       "12256905   2014-12-03\n",
       "Name: date, Length: 12256906, dtype: datetime64[ns]"
      ]
     },
     "execution_count": 6,
     "metadata": {},
     "output_type": "execute_result"
    }
   ],
   "source": [
    "dt['date']"
   ]
  },
  {
   "cell_type": "code",
   "execution_count": 7,
   "id": "adjusted-truck",
   "metadata": {},
   "outputs": [
    {
     "data": {
      "text/plain": [
       "0            2\n",
       "1           20\n",
       "2           11\n",
       "3           10\n",
       "4           21\n",
       "            ..\n",
       "12256901    21\n",
       "12256902    21\n",
       "12256903    16\n",
       "12256904    22\n",
       "12256905    19\n",
       "Name: hour, Length: 12256906, dtype: int32"
      ]
     },
     "execution_count": 7,
     "metadata": {},
     "output_type": "execute_result"
    }
   ],
   "source": [
    "dt['hour']"
   ]
  },
  {
   "cell_type": "code",
   "execution_count": 24,
   "id": "southwest-beaver",
   "metadata": {},
   "outputs": [],
   "source": [
    "dt['行为时间']=pd.to_datetime(dt['行为时间'])"
   ]
  },
  {
   "cell_type": "code",
   "execution_count": 25,
   "id": "northern-legislature",
   "metadata": {},
   "outputs": [],
   "source": [
    "#将数据集按时间列进行升序排列\n",
    "dt.sort_values(by='行为时间',ascending=True,inplace=True)"
   ]
  },
  {
   "cell_type": "code",
   "execution_count": 26,
   "id": "medieval-terrace",
   "metadata": {},
   "outputs": [],
   "source": [
    "#舍弃原来的索引进行重置\n",
    "dt.reset_index(drop=True,inplace=True)"
   ]
  },
  {
   "cell_type": "code",
   "execution_count": 10,
   "id": "subject-discount",
   "metadata": {},
   "outputs": [
    {
     "name": "stdout",
     "output_type": "stream",
     "text": [
      "<class 'pandas.core.frame.DataFrame'>\n",
      "RangeIndex: 12256906 entries, 0 to 12256905\n",
      "Data columns (total 8 columns):\n",
      " #   Column  Dtype         \n",
      "---  ------  -----         \n",
      " 0   用户名     int64         \n",
      " 1   商品名     int64         \n",
      " 2   用户行为类型  int64         \n",
      " 3   地理位置    object        \n",
      " 4   品类名     int64         \n",
      " 5   行为时间    datetime64[ns]\n",
      " 6   date    datetime64[ns]\n",
      " 7   hour    int32         \n",
      "dtypes: datetime64[ns](2), int32(1), int64(4), object(1)\n",
      "memory usage: 701.3+ MB\n"
     ]
    }
   ],
   "source": [
    "dt.info()"
   ]
  },
  {
   "cell_type": "code",
   "execution_count": 9,
   "id": "alpine-contractor",
   "metadata": {},
   "outputs": [
    {
     "data": {
      "text/html": [
       "<div>\n",
       "<style scoped>\n",
       "    .dataframe tbody tr th:only-of-type {\n",
       "        vertical-align: middle;\n",
       "    }\n",
       "\n",
       "    .dataframe tbody tr th {\n",
       "        vertical-align: top;\n",
       "    }\n",
       "\n",
       "    .dataframe thead th {\n",
       "        text-align: right;\n",
       "    }\n",
       "</style>\n",
       "<table border=\"1\" class=\"dataframe\">\n",
       "  <thead>\n",
       "    <tr style=\"text-align: right;\">\n",
       "      <th></th>\n",
       "      <th>用户名</th>\n",
       "      <th>商品名</th>\n",
       "      <th>用户行为类型</th>\n",
       "      <th>品类名</th>\n",
       "      <th>hour</th>\n",
       "    </tr>\n",
       "  </thead>\n",
       "  <tbody>\n",
       "    <tr>\n",
       "      <th>count</th>\n",
       "      <td>1.225691e+07</td>\n",
       "      <td>1.225691e+07</td>\n",
       "      <td>1.225691e+07</td>\n",
       "      <td>1.225691e+07</td>\n",
       "      <td>1.225691e+07</td>\n",
       "    </tr>\n",
       "    <tr>\n",
       "      <th>mean</th>\n",
       "      <td>7.170732e+07</td>\n",
       "      <td>2.023084e+08</td>\n",
       "      <td>1.105271e+00</td>\n",
       "      <td>6.846162e+03</td>\n",
       "      <td>1.481799e+01</td>\n",
       "    </tr>\n",
       "    <tr>\n",
       "      <th>std</th>\n",
       "      <td>4.122920e+07</td>\n",
       "      <td>1.167397e+08</td>\n",
       "      <td>4.572662e-01</td>\n",
       "      <td>3.809922e+03</td>\n",
       "      <td>6.474778e+00</td>\n",
       "    </tr>\n",
       "    <tr>\n",
       "      <th>min</th>\n",
       "      <td>4.913000e+03</td>\n",
       "      <td>6.400000e+01</td>\n",
       "      <td>1.000000e+00</td>\n",
       "      <td>2.000000e+00</td>\n",
       "      <td>0.000000e+00</td>\n",
       "    </tr>\n",
       "    <tr>\n",
       "      <th>25%</th>\n",
       "      <td>3.584965e+07</td>\n",
       "      <td>1.014130e+08</td>\n",
       "      <td>1.000000e+00</td>\n",
       "      <td>3.721000e+03</td>\n",
       "      <td>1.000000e+01</td>\n",
       "    </tr>\n",
       "    <tr>\n",
       "      <th>50%</th>\n",
       "      <td>7.292804e+07</td>\n",
       "      <td>2.021359e+08</td>\n",
       "      <td>1.000000e+00</td>\n",
       "      <td>6.209000e+03</td>\n",
       "      <td>1.600000e+01</td>\n",
       "    </tr>\n",
       "    <tr>\n",
       "      <th>75%</th>\n",
       "      <td>1.073774e+08</td>\n",
       "      <td>3.035405e+08</td>\n",
       "      <td>1.000000e+00</td>\n",
       "      <td>1.029000e+04</td>\n",
       "      <td>2.000000e+01</td>\n",
       "    </tr>\n",
       "    <tr>\n",
       "      <th>max</th>\n",
       "      <td>1.424559e+08</td>\n",
       "      <td>4.045625e+08</td>\n",
       "      <td>4.000000e+00</td>\n",
       "      <td>1.408000e+04</td>\n",
       "      <td>2.300000e+01</td>\n",
       "    </tr>\n",
       "  </tbody>\n",
       "</table>\n",
       "</div>"
      ],
      "text/plain": [
       "                用户名           商品名        用户行为类型           品类名          hour\n",
       "count  1.225691e+07  1.225691e+07  1.225691e+07  1.225691e+07  1.225691e+07\n",
       "mean   7.170732e+07  2.023084e+08  1.105271e+00  6.846162e+03  1.481799e+01\n",
       "std    4.122920e+07  1.167397e+08  4.572662e-01  3.809922e+03  6.474778e+00\n",
       "min    4.913000e+03  6.400000e+01  1.000000e+00  2.000000e+00  0.000000e+00\n",
       "25%    3.584965e+07  1.014130e+08  1.000000e+00  3.721000e+03  1.000000e+01\n",
       "50%    7.292804e+07  2.021359e+08  1.000000e+00  6.209000e+03  1.600000e+01\n",
       "75%    1.073774e+08  3.035405e+08  1.000000e+00  1.029000e+04  2.000000e+01\n",
       "max    1.424559e+08  4.045625e+08  4.000000e+00  1.408000e+04  2.300000e+01"
      ]
     },
     "execution_count": 9,
     "metadata": {},
     "output_type": "execute_result"
    }
   ],
   "source": [
    "dt.describe()"
   ]
  },
  {
   "cell_type": "markdown",
   "id": "handled-forth",
   "metadata": {},
   "source": [
    "# 用户行为分析"
   ]
  },
  {
   "cell_type": "code",
   "execution_count": 16,
   "id": "facial-scene",
   "metadata": {},
   "outputs": [],
   "source": [
    "#  PV(访问量)：即Page View, 具体是指网站的是页面浏览量或者点击量，页面被刷新一次就计算一次。\n",
    "\n",
    "# UV(独立访客)：即Unique Visitor,访问您网站的一台电脑客户端为一个访客。"
   ]
  },
  {
   "cell_type": "code",
   "execution_count": 10,
   "id": "critical-issue",
   "metadata": {},
   "outputs": [],
   "source": [
    "#pv_daily记录每天用户操作次数\n",
    "pv_daily=dt.groupby('date').count()['用户名'].rename('pv')"
   ]
  },
  {
   "cell_type": "code",
   "execution_count": 11,
   "id": "grave-bankruptcy",
   "metadata": {},
   "outputs": [],
   "source": [
    "uv_daily=dt.groupby('date')['用户名'].nunique().rename('uv')"
   ]
  },
  {
   "cell_type": "code",
   "execution_count": 12,
   "id": "understood-forwarding",
   "metadata": {},
   "outputs": [],
   "source": [
    "pv_uv_daily=pd.concat([pv_daily,uv_daily],axis=1)"
   ]
  },
  {
   "cell_type": "code",
   "execution_count": 13,
   "id": "ranking-edward",
   "metadata": {},
   "outputs": [
    {
     "data": {
      "text/html": [
       "<div>\n",
       "<style scoped>\n",
       "    .dataframe tbody tr th:only-of-type {\n",
       "        vertical-align: middle;\n",
       "    }\n",
       "\n",
       "    .dataframe tbody tr th {\n",
       "        vertical-align: top;\n",
       "    }\n",
       "\n",
       "    .dataframe thead th {\n",
       "        text-align: right;\n",
       "    }\n",
       "</style>\n",
       "<table border=\"1\" class=\"dataframe\">\n",
       "  <thead>\n",
       "    <tr style=\"text-align: right;\">\n",
       "      <th></th>\n",
       "      <th>pv</th>\n",
       "      <th>uv</th>\n",
       "    </tr>\n",
       "    <tr>\n",
       "      <th>date</th>\n",
       "      <th></th>\n",
       "      <th></th>\n",
       "    </tr>\n",
       "  </thead>\n",
       "  <tbody>\n",
       "    <tr>\n",
       "      <th>2014-11-18</th>\n",
       "      <td>366701</td>\n",
       "      <td>6343</td>\n",
       "    </tr>\n",
       "    <tr>\n",
       "      <th>2014-11-19</th>\n",
       "      <td>358823</td>\n",
       "      <td>6420</td>\n",
       "    </tr>\n",
       "    <tr>\n",
       "      <th>2014-11-20</th>\n",
       "      <td>353429</td>\n",
       "      <td>6333</td>\n",
       "    </tr>\n",
       "    <tr>\n",
       "      <th>2014-11-21</th>\n",
       "      <td>333104</td>\n",
       "      <td>6276</td>\n",
       "    </tr>\n",
       "    <tr>\n",
       "      <th>2014-11-22</th>\n",
       "      <td>361355</td>\n",
       "      <td>6187</td>\n",
       "    </tr>\n",
       "  </tbody>\n",
       "</table>\n",
       "</div>"
      ],
      "text/plain": [
       "                pv    uv\n",
       "date                    \n",
       "2014-11-18  366701  6343\n",
       "2014-11-19  358823  6420\n",
       "2014-11-20  353429  6333\n",
       "2014-11-21  333104  6276\n",
       "2014-11-22  361355  6187"
      ]
     },
     "execution_count": 13,
     "metadata": {},
     "output_type": "execute_result"
    }
   ],
   "source": [
    "pv_uv_daily.head()"
   ]
  },
  {
   "cell_type": "markdown",
   "id": "normal-saturn",
   "metadata": {},
   "source": [
    "# 画每天的访问量和独立访客数"
   ]
  },
  {
   "cell_type": "code",
   "execution_count": 14,
   "id": "controversial-marine",
   "metadata": {},
   "outputs": [
    {
     "data": {
      "text/plain": [
       "Timestamp('2014-11-21 00:00:00')"
      ]
     },
     "execution_count": 14,
     "metadata": {},
     "output_type": "execute_result"
    }
   ],
   "source": [
    "#获取最小日期\n",
    "dt['date'].value_counts().index[0]\n",
    "#获取最大日期\n",
    "dt['date'].value_counts().index[-1]"
   ]
  },
  {
   "cell_type": "code",
   "execution_count": 15,
   "id": "broken-secondary",
   "metadata": {},
   "outputs": [
    {
     "data": {
      "text/plain": [
       "2014-12-12    691712\n",
       "2014-12-11    488508\n",
       "2014-12-10    421910\n",
       "2014-12-03    411606\n",
       "2014-12-13    407160\n",
       "2014-12-02    405216\n",
       "2014-12-14    402541\n",
       "2014-11-30    401620\n",
       "2014-12-04    399952\n",
       "2014-12-07    399751\n",
       "2014-12-15    398356\n",
       "2014-12-09    398025\n",
       "2014-12-16    395085\n",
       "2014-12-01    394611\n",
       "2014-12-06    389610\n",
       "2014-12-08    386667\n",
       "2014-12-17    384791\n",
       "2014-11-23    382702\n",
       "2014-11-24    378342\n",
       "2014-12-18    375597\n",
       "2014-11-27    371384\n",
       "2014-11-25    370239\n",
       "2014-11-18    366701\n",
       "2014-11-29    364697\n",
       "2014-12-05    361878\n",
       "2014-11-22    361355\n",
       "2014-11-26    360896\n",
       "2014-11-19    358823\n",
       "2014-11-20    353429\n",
       "2014-11-28    340638\n",
       "2014-11-21    333104\n",
       "Name: date, dtype: int64"
      ]
     },
     "execution_count": 15,
     "metadata": {},
     "output_type": "execute_result"
    }
   ],
   "source": [
    "dt['date'].value_counts()"
   ]
  },
  {
   "cell_type": "code",
   "execution_count": 16,
   "id": "dangerous-paint",
   "metadata": {},
   "outputs": [
    {
     "data": {
      "image/png": "[encoded data removed]",
      "text/plain": [
       "<Figure size 1152x720 with 2 Axes>"
      ]
     },
     "metadata": {
      "needs_background": "light"
     },
     "output_type": "display_data"
    }
   ],
   "source": [
    "import matplotlib.dates as mdate\n",
    "from matplotlib.dates import DateFormatter\n",
    "\n",
    "plt.figure(figsize=(16,10))\n",
    "plt.xlabel(' ',fontsize=9)\n",
    "pv_uv_daily['pv'].plot(color='steelblue',label='每天访问量')\n",
    "plt.ylabel('访问量')\n",
    "fig=pv_uv_daily['uv'].plot(color='red',label='每天不同用户访问量',secondary_y=True)\n",
    "plt.ylabel('访问用户量')\n",
    "plt.xticks((pv_uv_daily.index),pd.date_range('2014-11-18','2014-12-18'))\n",
    "plt.legend(loc='upper center')\n",
    "plt.grid(True)\n",
    "plt.gcf().autofmt_xdate() #坐标轴时间刻度自动调整。\n",
    "fig.xaxis.set_major_formatter(DateFormatter('%Y-%m-%d'))\n",
    "plt.legend()\n",
    "plt.show()"
   ]
  },
  {
   "cell_type": "code",
   "execution_count": 17,
   "id": "widespread-norway",
   "metadata": {},
   "outputs": [
    {
     "data": {
      "image/png": "[encoded data removed]",
      "text/plain": [
       "<Figure size 1152x648 with 2 Axes>"
      ]
     },
     "metadata": {
      "needs_background": "light"
     },
     "output_type": "display_data"
    }
   ],
   "source": [
    "plt.figure(figsize=(16,9))\n",
    "plt.subplot(211)\n",
    "plt.plot(pv_daily,color='red')\n",
    "plt.title('每天访问量')\n",
    "plt.xticks(rotation=45) #X轴倾斜45°\n",
    "plt.subplot(212)\n",
    "plt.plot(uv_daily,color='green')\n",
    "plt.title('每天访问用户数')\n",
    "plt.suptitle('UV和PV变化趋势',fontsize=20)\n",
    "plt.xticks(rotation=45) #X轴倾斜45°\n",
    "plt.show()"
   ]
  },
  {
   "cell_type": "code",
   "execution_count": 9,
   "id": "selective-vegetarian",
   "metadata": {},
   "outputs": [
    {
     "data": {
      "text/html": [
       "<div>\n",
       "<style scoped>\n",
       "    .dataframe tbody tr th:only-of-type {\n",
       "        vertical-align: middle;\n",
       "    }\n",
       "\n",
       "    .dataframe tbody tr th {\n",
       "        vertical-align: top;\n",
       "    }\n",
       "\n",
       "    .dataframe thead th {\n",
       "        text-align: right;\n",
       "    }\n",
       "</style>\n",
       "<table border=\"1\" class=\"dataframe\">\n",
       "  <thead>\n",
       "    <tr style=\"text-align: right;\">\n",
       "      <th></th>\n",
       "      <th>date</th>\n",
       "      <th>pv</th>\n",
       "    </tr>\n",
       "  </thead>\n",
       "  <tbody>\n",
       "    <tr>\n",
       "      <th>0</th>\n",
       "      <td>2014-11-18</td>\n",
       "      <td>366701</td>\n",
       "    </tr>\n",
       "    <tr>\n",
       "      <th>1</th>\n",
       "      <td>2014-11-19</td>\n",
       "      <td>358823</td>\n",
       "    </tr>\n",
       "    <tr>\n",
       "      <th>2</th>\n",
       "      <td>2014-11-20</td>\n",
       "      <td>353429</td>\n",
       "    </tr>\n",
       "    <tr>\n",
       "      <th>3</th>\n",
       "      <td>2014-11-21</td>\n",
       "      <td>333104</td>\n",
       "    </tr>\n",
       "    <tr>\n",
       "      <th>4</th>\n",
       "      <td>2014-11-22</td>\n",
       "      <td>361355</td>\n",
       "    </tr>\n",
       "  </tbody>\n",
       "</table>\n",
       "</div>"
      ],
      "text/plain": [
       "        date      pv\n",
       "0 2014-11-18  366701\n",
       "1 2014-11-19  358823\n",
       "2 2014-11-20  353429\n",
       "3 2014-11-21  333104\n",
       "4 2014-11-22  361355"
      ]
     },
     "execution_count": 9,
     "metadata": {},
     "output_type": "execute_result"
    }
   ],
   "source": [
    "pv_daily=dt.groupby('date')['用户名'].count().reset_index().rename(columns={'用户名':'pv'})\n",
    "pv_daily.head()"
   ]
  },
  {
   "cell_type": "code",
   "execution_count": 19,
   "id": "direct-algorithm",
   "metadata": {},
   "outputs": [],
   "source": [
    "uv_daily=dt.groupby('date')['用户名'].nunique()"
   ]
  },
  {
   "cell_type": "code",
   "execution_count": 23,
   "id": "polyphonic-rolling",
   "metadata": {},
   "outputs": [
    {
     "data": {
      "text/plain": [
       "date\n",
       "2014-11-18    6343\n",
       "2014-11-19    6420\n",
       "2014-11-20    6333\n",
       "2014-11-21    6276\n",
       "2014-11-22    6187\n",
       "Name: 用户名, dtype: int64"
      ]
     },
     "execution_count": 23,
     "metadata": {},
     "output_type": "execute_result"
    }
   ],
   "source": [
    "uv_daily.head()"
   ]
  },
  {
   "cell_type": "code",
   "execution_count": 24,
   "id": "indonesian-crime",
   "metadata": {},
   "outputs": [],
   "source": [
    "uv_daily=dt.groupby('date')['用户名'].nunique().reset_index()"
   ]
  },
  {
   "cell_type": "code",
   "execution_count": 10,
   "id": "editorial-horizon",
   "metadata": {},
   "outputs": [],
   "source": [
    "uv_daily=dt.groupby('date')['用户名'].nunique().reset_index().rename(columns={'用户名':'uv'})"
   ]
  },
  {
   "cell_type": "code",
   "execution_count": 31,
   "id": "cutting-affair",
   "metadata": {},
   "outputs": [
    {
     "name": "stdout",
     "output_type": "stream",
     "text": [
      "Using matplotlib backend: TkAgg\n"
     ]
    }
   ],
   "source": [
    "%matplotlib auto\n",
    "plt.rcParams['font.sans-serif'] = ['SimHei'] \n",
    "plt.rcParams['axes.unicode_minus'] = False\n",
    "\n",
    "\n",
    "fig, ax1 = plt.subplots(figsize=(15,8))\n",
    "\n",
    "\n",
    "l1, = ax1.plot(pv_daily['date'],pv_daily['pv'],label='pv',color='tab:green')\n",
    "\n",
    "\n",
    "\n",
    "\n",
    "ax2 = ax1.twinx()  # instantiate a second axes that shares the same x-axis\n",
    "l2,=ax2.plot(uv_daily['date'],uv_daily['uv'],label='uv',color='tab:red')\n",
    "\n",
    "\n",
    "plt.grid(True)\n",
    "#plt.xticks(pd.date_range('2014-11-18','2014-12-18'))\n",
    "plt.xticks((pv_uv_daily.index),pd.date_range('2014-11-18','2014-12-18'))\n",
    "\n",
    "\n",
    "plt.gcf().autofmt_xdate() #坐标轴时间刻度自动调整。\n",
    "ax1.xaxis.set_major_formatter(mdate.DateFormatter('%Y-%m-%d'))\n",
    "\n",
    "\n",
    "fig.legend((l1, l2), ('pv', 'uv'),fontsize=15,loc='upper center', bbox_to_anchor=(0.92,0.94),fancybox=True, shadow=True)\n",
    "plt.title('每天访问用户数',fontsize=15)\n",
    "\n",
    "\n",
    "\n",
    "#plt.suptitle('UV和PV变化趋势',fontsize=20)\n",
    "\n",
    "\n",
    "fig.tight_layout()\n",
    "\n",
    "plt.show()"
   ]
  },
  {
   "cell_type": "markdown",
   "id": "allied-career",
   "metadata": {},
   "source": [
    "# 交互直线图"
   ]
  },
  {
   "cell_type": "code",
   "execution_count": 30,
   "id": "novel-testament",
   "metadata": {},
   "outputs": [
    {
     "name": "stdout",
     "output_type": "stream",
     "text": [
      "Using matplotlib backend: TkAgg\n"
     ]
    }
   ],
   "source": [
    "import matplotlib.dates as mdate\n",
    "import numpy as np\n",
    "from matplotlib.dates import DateFormatter\n",
    "import matplotlib.pyplot as plt\n",
    "plt.rcParams['font.sans-serif'] = ['SimHei'] \n",
    "plt.rcParams['axes.unicode_minus'] = False\n",
    "%matplotlib auto\n",
    "\n",
    "fig, ax1 = plt.subplots(figsize=(15,8))\n",
    "\n",
    "l1, = ax1.plot(pv_daily['date'],pv_daily['pv'],label='pv',color='steelblue')\n",
    "plt.ylabel('访问量')\n",
    "\n",
    "ax2 = ax1.twinx()  # instantiate a second axes that shares the same x-axis\n",
    "l2,=ax2.plot(uv_daily['date'],uv_daily['uv'],label='uv',color='tab:red')\n",
    "plt.ylabel('访客数')\n",
    "plt.xlabel('date',fontsize=15)\n",
    "\n",
    "#plt.xticks(pd.date_range('2014-11-18','2014-12-18'))\n",
    "plt.xticks((pv_uv_daily.index),pd.date_range('2014-11-18','2014-12-18'))\n",
    "\n",
    "plt.gcf().autofmt_xdate() #坐标轴时间刻度自动调整。\n",
    "ax1.xaxis.set_major_formatter(mdate.DateFormatter('%Y-%m-%d'))\n",
    "\n",
    "fig.legend((l1, l2), ('pv', 'uv'),fontsize=15,loc='upper center', bbox_to_anchor=(0.85,0.85),fancybox=True, shadow=True)\n",
    "plt.title('每天访问用户数',fontsize=15)\n",
    "\n",
    "#plt.suptitle('UV和PV变化趋势',fontsize=20)\n",
    "plt.grid(True)\n",
    "\n",
    "# lines = [l1,l2]\n",
    "# lined = {}  # Will map legend lines to original lines.\n",
    "# for legline, origline in zip(leg.get_lines(), lines):\n",
    "#     legline.set_picker(True)  # Enable picking on the legend line.\n",
    "#     lined[legline] = origline\n",
    "# def on_pick(event):\n",
    "#     # On the pick event, find the original line corresponding to the legend\n",
    "#     # proxy line, and toggle its visibility.\n",
    "#     legline = event.artist\n",
    "#     origline = lined[legline]\n",
    "#     visible = not origline.get_visible()\n",
    "#     origline.set_visible(visible)\n",
    "#     # Change the alpha on the line in the legend so we can see what lines\n",
    "#     # have been toggled.\n",
    "#     legline.set_alpha(1.0 if visible else 0.2)\n",
    "#     fig.canvas.draw()\n",
    "# fig.canvas.mpl_connect('pick_event', on_pick)\n",
    "\n",
    "plt.show()"
   ]
  },
  {
   "cell_type": "markdown",
   "id": "industrial-joshua",
   "metadata": {},
   "source": [
    "小时访问量分析"
   ]
  },
  {
   "cell_type": "code",
   "execution_count": 15,
   "id": "dense-lafayette",
   "metadata": {},
   "outputs": [],
   "source": [
    "uv_hour=dt.groupby('hour')['用户名'].nunique().reset_index().rename(columns={'用户名':'uv'})\n",
    "pv_hour=dt.groupby('hour')['用户名'].count().reset_index().rename(columns={'用户名':'pv'})\n"
   ]
  },
  {
   "cell_type": "code",
   "execution_count": 16,
   "id": "completed-delight",
   "metadata": {},
   "outputs": [
    {
     "data": {
      "text/html": [
       "<div>\n",
       "<style scoped>\n",
       "    .dataframe tbody tr th:only-of-type {\n",
       "        vertical-align: middle;\n",
       "    }\n",
       "\n",
       "    .dataframe tbody tr th {\n",
       "        vertical-align: top;\n",
       "    }\n",
       "\n",
       "    .dataframe thead th {\n",
       "        text-align: right;\n",
       "    }\n",
       "</style>\n",
       "<table border=\"1\" class=\"dataframe\">\n",
       "  <thead>\n",
       "    <tr style=\"text-align: right;\">\n",
       "      <th></th>\n",
       "      <th>hour</th>\n",
       "      <th>pv</th>\n",
       "    </tr>\n",
       "  </thead>\n",
       "  <tbody>\n",
       "    <tr>\n",
       "      <th>0</th>\n",
       "      <td>0</td>\n",
       "      <td>517404</td>\n",
       "    </tr>\n",
       "    <tr>\n",
       "      <th>1</th>\n",
       "      <td>1</td>\n",
       "      <td>267682</td>\n",
       "    </tr>\n",
       "    <tr>\n",
       "      <th>2</th>\n",
       "      <td>2</td>\n",
       "      <td>147090</td>\n",
       "    </tr>\n",
       "    <tr>\n",
       "      <th>3</th>\n",
       "      <td>3</td>\n",
       "      <td>98516</td>\n",
       "    </tr>\n",
       "    <tr>\n",
       "      <th>4</th>\n",
       "      <td>4</td>\n",
       "      <td>80487</td>\n",
       "    </tr>\n",
       "  </tbody>\n",
       "</table>\n",
       "</div>"
      ],
      "text/plain": [
       "   hour      pv\n",
       "0     0  517404\n",
       "1     1  267682\n",
       "2     2  147090\n",
       "3     3   98516\n",
       "4     4   80487"
      ]
     },
     "execution_count": 16,
     "metadata": {},
     "output_type": "execute_result"
    }
   ],
   "source": [
    "pv_hour.head()"
   ]
  },
  {
   "cell_type": "code",
   "execution_count": 17,
   "id": "infinite-prize",
   "metadata": {},
   "outputs": [
    {
     "data": {
      "text/html": [
       "<div>\n",
       "<style scoped>\n",
       "    .dataframe tbody tr th:only-of-type {\n",
       "        vertical-align: middle;\n",
       "    }\n",
       "\n",
       "    .dataframe tbody tr th {\n",
       "        vertical-align: top;\n",
       "    }\n",
       "\n",
       "    .dataframe thead th {\n",
       "        text-align: right;\n",
       "    }\n",
       "</style>\n",
       "<table border=\"1\" class=\"dataframe\">\n",
       "  <thead>\n",
       "    <tr style=\"text-align: right;\">\n",
       "      <th></th>\n",
       "      <th>hour</th>\n",
       "      <th>uv</th>\n",
       "    </tr>\n",
       "  </thead>\n",
       "  <tbody>\n",
       "    <tr>\n",
       "      <th>0</th>\n",
       "      <td>0</td>\n",
       "      <td>5786</td>\n",
       "    </tr>\n",
       "    <tr>\n",
       "      <th>1</th>\n",
       "      <td>1</td>\n",
       "      <td>3780</td>\n",
       "    </tr>\n",
       "    <tr>\n",
       "      <th>2</th>\n",
       "      <td>2</td>\n",
       "      <td>2532</td>\n",
       "    </tr>\n",
       "    <tr>\n",
       "      <th>3</th>\n",
       "      <td>3</td>\n",
       "      <td>1937</td>\n",
       "    </tr>\n",
       "    <tr>\n",
       "      <th>4</th>\n",
       "      <td>4</td>\n",
       "      <td>1765</td>\n",
       "    </tr>\n",
       "  </tbody>\n",
       "</table>\n",
       "</div>"
      ],
      "text/plain": [
       "   hour    uv\n",
       "0     0  5786\n",
       "1     1  3780\n",
       "2     2  2532\n",
       "3     3  1937\n",
       "4     4  1765"
      ]
     },
     "execution_count": 17,
     "metadata": {},
     "output_type": "execute_result"
    }
   ],
   "source": [
    "uv_hour.head()"
   ]
  },
  {
   "cell_type": "code",
   "execution_count": 18,
   "id": "capable-remedy",
   "metadata": {},
   "outputs": [],
   "source": [
    "pv_uv_hour=pd.concat([pv_hour,uv_hour],axis=1)"
   ]
  },
  {
   "cell_type": "code",
   "execution_count": 19,
   "id": "connected-royal",
   "metadata": {},
   "outputs": [
    {
     "data": {
      "text/html": [
       "<div>\n",
       "<style scoped>\n",
       "    .dataframe tbody tr th:only-of-type {\n",
       "        vertical-align: middle;\n",
       "    }\n",
       "\n",
       "    .dataframe tbody tr th {\n",
       "        vertical-align: top;\n",
       "    }\n",
       "\n",
       "    .dataframe thead th {\n",
       "        text-align: right;\n",
       "    }\n",
       "</style>\n",
       "<table border=\"1\" class=\"dataframe\">\n",
       "  <thead>\n",
       "    <tr style=\"text-align: right;\">\n",
       "      <th></th>\n",
       "      <th>hour</th>\n",
       "      <th>pv</th>\n",
       "      <th>hour</th>\n",
       "      <th>uv</th>\n",
       "    </tr>\n",
       "  </thead>\n",
       "  <tbody>\n",
       "    <tr>\n",
       "      <th>0</th>\n",
       "      <td>0</td>\n",
       "      <td>517404</td>\n",
       "      <td>0</td>\n",
       "      <td>5786</td>\n",
       "    </tr>\n",
       "    <tr>\n",
       "      <th>1</th>\n",
       "      <td>1</td>\n",
       "      <td>267682</td>\n",
       "      <td>1</td>\n",
       "      <td>3780</td>\n",
       "    </tr>\n",
       "    <tr>\n",
       "      <th>2</th>\n",
       "      <td>2</td>\n",
       "      <td>147090</td>\n",
       "      <td>2</td>\n",
       "      <td>2532</td>\n",
       "    </tr>\n",
       "    <tr>\n",
       "      <th>3</th>\n",
       "      <td>3</td>\n",
       "      <td>98516</td>\n",
       "      <td>3</td>\n",
       "      <td>1937</td>\n",
       "    </tr>\n",
       "    <tr>\n",
       "      <th>4</th>\n",
       "      <td>4</td>\n",
       "      <td>80487</td>\n",
       "      <td>4</td>\n",
       "      <td>1765</td>\n",
       "    </tr>\n",
       "    <tr>\n",
       "      <th>5</th>\n",
       "      <td>5</td>\n",
       "      <td>88296</td>\n",
       "      <td>5</td>\n",
       "      <td>2030</td>\n",
       "    </tr>\n",
       "    <tr>\n",
       "      <th>6</th>\n",
       "      <td>6</td>\n",
       "      <td>158798</td>\n",
       "      <td>6</td>\n",
       "      <td>3564</td>\n",
       "    </tr>\n",
       "    <tr>\n",
       "      <th>7</th>\n",
       "      <td>7</td>\n",
       "      <td>287337</td>\n",
       "      <td>7</td>\n",
       "      <td>5722</td>\n",
       "    </tr>\n",
       "    <tr>\n",
       "      <th>8</th>\n",
       "      <td>8</td>\n",
       "      <td>396106</td>\n",
       "      <td>8</td>\n",
       "      <td>7108</td>\n",
       "    </tr>\n",
       "    <tr>\n",
       "      <th>9</th>\n",
       "      <td>9</td>\n",
       "      <td>485951</td>\n",
       "      <td>9</td>\n",
       "      <td>7734</td>\n",
       "    </tr>\n",
       "    <tr>\n",
       "      <th>10</th>\n",
       "      <td>10</td>\n",
       "      <td>550665</td>\n",
       "      <td>10</td>\n",
       "      <td>8139</td>\n",
       "    </tr>\n",
       "    <tr>\n",
       "      <th>11</th>\n",
       "      <td>11</td>\n",
       "      <td>526940</td>\n",
       "      <td>11</td>\n",
       "      <td>8239</td>\n",
       "    </tr>\n",
       "    <tr>\n",
       "      <th>12</th>\n",
       "      <td>12</td>\n",
       "      <td>531957</td>\n",
       "      <td>12</td>\n",
       "      <td>8314</td>\n",
       "    </tr>\n",
       "    <tr>\n",
       "      <th>13</th>\n",
       "      <td>13</td>\n",
       "      <td>598343</td>\n",
       "      <td>13</td>\n",
       "      <td>8352</td>\n",
       "    </tr>\n",
       "    <tr>\n",
       "      <th>14</th>\n",
       "      <td>14</td>\n",
       "      <td>594215</td>\n",
       "      <td>14</td>\n",
       "      <td>8255</td>\n",
       "    </tr>\n",
       "    <tr>\n",
       "      <th>15</th>\n",
       "      <td>15</td>\n",
       "      <td>598849</td>\n",
       "      <td>15</td>\n",
       "      <td>8257</td>\n",
       "    </tr>\n",
       "    <tr>\n",
       "      <th>16</th>\n",
       "      <td>16</td>\n",
       "      <td>576207</td>\n",
       "      <td>16</td>\n",
       "      <td>8320</td>\n",
       "    </tr>\n",
       "    <tr>\n",
       "      <th>17</th>\n",
       "      <td>17</td>\n",
       "      <td>505936</td>\n",
       "      <td>17</td>\n",
       "      <td>8228</td>\n",
       "    </tr>\n",
       "    <tr>\n",
       "      <th>18</th>\n",
       "      <td>18</td>\n",
       "      <td>547383</td>\n",
       "      <td>18</td>\n",
       "      <td>8278</td>\n",
       "    </tr>\n",
       "    <tr>\n",
       "      <th>19</th>\n",
       "      <td>19</td>\n",
       "      <td>735192</td>\n",
       "      <td>19</td>\n",
       "      <td>8538</td>\n",
       "    </tr>\n",
       "    <tr>\n",
       "      <th>20</th>\n",
       "      <td>20</td>\n",
       "      <td>935161</td>\n",
       "      <td>20</td>\n",
       "      <td>8780</td>\n",
       "    </tr>\n",
       "    <tr>\n",
       "      <th>21</th>\n",
       "      <td>21</td>\n",
       "      <td>1090178</td>\n",
       "      <td>21</td>\n",
       "      <td>8866</td>\n",
       "    </tr>\n",
       "    <tr>\n",
       "      <th>22</th>\n",
       "      <td>22</td>\n",
       "      <td>1088961</td>\n",
       "      <td>22</td>\n",
       "      <td>8599</td>\n",
       "    </tr>\n",
       "    <tr>\n",
       "      <th>23</th>\n",
       "      <td>23</td>\n",
       "      <td>849252</td>\n",
       "      <td>23</td>\n",
       "      <td>7484</td>\n",
       "    </tr>\n",
       "  </tbody>\n",
       "</table>\n",
       "</div>"
      ],
      "text/plain": [
       "    hour       pv  hour    uv\n",
       "0      0   517404     0  5786\n",
       "1      1   267682     1  3780\n",
       "2      2   147090     2  2532\n",
       "3      3    98516     3  1937\n",
       "4      4    80487     4  1765\n",
       "5      5    88296     5  2030\n",
       "6      6   158798     6  3564\n",
       "7      7   287337     7  5722\n",
       "8      8   396106     8  7108\n",
       "9      9   485951     9  7734\n",
       "10    10   550665    10  8139\n",
       "11    11   526940    11  8239\n",
       "12    12   531957    12  8314\n",
       "13    13   598343    13  8352\n",
       "14    14   594215    14  8255\n",
       "15    15   598849    15  8257\n",
       "16    16   576207    16  8320\n",
       "17    17   505936    17  8228\n",
       "18    18   547383    18  8278\n",
       "19    19   735192    19  8538\n",
       "20    20   935161    20  8780\n",
       "21    21  1090178    21  8866\n",
       "22    22  1088961    22  8599\n",
       "23    23   849252    23  7484"
      ]
     },
     "execution_count": 19,
     "metadata": {},
     "output_type": "execute_result"
    }
   ],
   "source": [
    "pv_uv_hour"
   ]
  },
  {
   "cell_type": "code",
   "execution_count": 20,
   "id": "returning-humanity",
   "metadata": {},
   "outputs": [
    {
     "data": {
      "image/png": "[encoded data removed]",
      "text/plain": [
       "<Figure size 1152x720 with 2 Axes>"
      ]
     },
     "metadata": {
      "needs_background": "light"
     },
     "output_type": "display_data"
    }
   ],
   "source": [
    "plt.figure(figsize=(16,10))\n",
    "plt.xlabel(' ',fontsize=9)\n",
    "pv_uv_hour['pv'].plot(color='steelblue',label='pv访问量')\n",
    "plt.ylabel('访问量')\n",
    "plt.legend(loc='upper right')\n",
    "pv_uv_hour['uv'].plot(color='red',label='uv访问量',secondary_y=True)\n",
    "plt.ylabel('访问用户量')\n",
    "plt.xticks(range(0,24),pv_uv_hour.index)\n",
    "plt.legend(loc='upper center')\n",
    "plt.grid(True)\n",
    "plt.gcf().autofmt_xdate() #坐标轴时间刻度自动调整。\n",
    "plt.show()"
   ]
  },
  {
   "cell_type": "markdown",
   "id": "meaning-cliff",
   "metadata": {},
   "source": [
    "不同类型的pv"
   ]
  },
  {
   "cell_type": "code",
   "execution_count": 27,
   "id": "domestic-entertainment",
   "metadata": {},
   "outputs": [
    {
     "data": {
      "text/plain": [
       "1    11550581\n",
       "3      343564\n",
       "2      242556\n",
       "4      120205\n",
       "Name: 用户行为类型, dtype: int64"
      ]
     },
     "execution_count": 27,
     "metadata": {},
     "output_type": "execute_result"
    }
   ],
   "source": [
    "dt['用户行为类型'].value_counts()"
   ]
  },
  {
   "cell_type": "code",
   "execution_count": 28,
   "id": "ethical-paraguay",
   "metadata": {},
   "outputs": [],
   "source": [
    "pv_detail = pd.pivot_table(columns='用户行为类型', index = 'hour' ,data=dt ,values='用户名',aggfunc=np.size)"
   ]
  },
  {
   "cell_type": "code",
   "execution_count": 29,
   "id": "appreciated-soccer",
   "metadata": {},
   "outputs": [
    {
     "data": {
      "text/html": [
       "<div>\n",
       "<style scoped>\n",
       "    .dataframe tbody tr th:only-of-type {\n",
       "        vertical-align: middle;\n",
       "    }\n",
       "\n",
       "    .dataframe tbody tr th {\n",
       "        vertical-align: top;\n",
       "    }\n",
       "\n",
       "    .dataframe thead th {\n",
       "        text-align: right;\n",
       "    }\n",
       "</style>\n",
       "<table border=\"1\" class=\"dataframe\">\n",
       "  <thead>\n",
       "    <tr style=\"text-align: right;\">\n",
       "      <th>用户行为类型</th>\n",
       "      <th>1</th>\n",
       "      <th>2</th>\n",
       "      <th>3</th>\n",
       "      <th>4</th>\n",
       "    </tr>\n",
       "    <tr>\n",
       "      <th>hour</th>\n",
       "      <th></th>\n",
       "      <th></th>\n",
       "      <th></th>\n",
       "      <th></th>\n",
       "    </tr>\n",
       "  </thead>\n",
       "  <tbody>\n",
       "    <tr>\n",
       "      <th>0</th>\n",
       "      <td>487341</td>\n",
       "      <td>11062</td>\n",
       "      <td>14156</td>\n",
       "      <td>4845</td>\n",
       "    </tr>\n",
       "    <tr>\n",
       "      <th>1</th>\n",
       "      <td>252991</td>\n",
       "      <td>6276</td>\n",
       "      <td>6712</td>\n",
       "      <td>1703</td>\n",
       "    </tr>\n",
       "    <tr>\n",
       "      <th>2</th>\n",
       "      <td>139139</td>\n",
       "      <td>3311</td>\n",
       "      <td>3834</td>\n",
       "      <td>806</td>\n",
       "    </tr>\n",
       "    <tr>\n",
       "      <th>3</th>\n",
       "      <td>93250</td>\n",
       "      <td>2282</td>\n",
       "      <td>2480</td>\n",
       "      <td>504</td>\n",
       "    </tr>\n",
       "    <tr>\n",
       "      <th>4</th>\n",
       "      <td>75832</td>\n",
       "      <td>2010</td>\n",
       "      <td>2248</td>\n",
       "      <td>397</td>\n",
       "    </tr>\n",
       "    <tr>\n",
       "      <th>5</th>\n",
       "      <td>83545</td>\n",
       "      <td>2062</td>\n",
       "      <td>2213</td>\n",
       "      <td>476</td>\n",
       "    </tr>\n",
       "    <tr>\n",
       "      <th>6</th>\n",
       "      <td>150356</td>\n",
       "      <td>3651</td>\n",
       "      <td>3768</td>\n",
       "      <td>1023</td>\n",
       "    </tr>\n",
       "    <tr>\n",
       "      <th>7</th>\n",
       "      <td>272470</td>\n",
       "      <td>5885</td>\n",
       "      <td>7044</td>\n",
       "      <td>1938</td>\n",
       "    </tr>\n",
       "    <tr>\n",
       "      <th>8</th>\n",
       "      <td>374701</td>\n",
       "      <td>7849</td>\n",
       "      <td>9970</td>\n",
       "      <td>3586</td>\n",
       "    </tr>\n",
       "    <tr>\n",
       "      <th>9</th>\n",
       "      <td>456781</td>\n",
       "      <td>10507</td>\n",
       "      <td>12956</td>\n",
       "      <td>5707</td>\n",
       "    </tr>\n",
       "    <tr>\n",
       "      <th>10</th>\n",
       "      <td>515960</td>\n",
       "      <td>11185</td>\n",
       "      <td>16203</td>\n",
       "      <td>7317</td>\n",
       "    </tr>\n",
       "    <tr>\n",
       "      <th>11</th>\n",
       "      <td>493679</td>\n",
       "      <td>10918</td>\n",
       "      <td>15257</td>\n",
       "      <td>7086</td>\n",
       "    </tr>\n",
       "    <tr>\n",
       "      <th>12</th>\n",
       "      <td>500036</td>\n",
       "      <td>9940</td>\n",
       "      <td>15025</td>\n",
       "      <td>6956</td>\n",
       "    </tr>\n",
       "    <tr>\n",
       "      <th>13</th>\n",
       "      <td>561513</td>\n",
       "      <td>11694</td>\n",
       "      <td>17419</td>\n",
       "      <td>7717</td>\n",
       "    </tr>\n",
       "    <tr>\n",
       "      <th>14</th>\n",
       "      <td>558246</td>\n",
       "      <td>11695</td>\n",
       "      <td>17067</td>\n",
       "      <td>7207</td>\n",
       "    </tr>\n",
       "    <tr>\n",
       "      <th>15</th>\n",
       "      <td>562238</td>\n",
       "      <td>12010</td>\n",
       "      <td>17289</td>\n",
       "      <td>7312</td>\n",
       "    </tr>\n",
       "    <tr>\n",
       "      <th>16</th>\n",
       "      <td>541846</td>\n",
       "      <td>11127</td>\n",
       "      <td>16304</td>\n",
       "      <td>6930</td>\n",
       "    </tr>\n",
       "    <tr>\n",
       "      <th>17</th>\n",
       "      <td>476369</td>\n",
       "      <td>9754</td>\n",
       "      <td>14515</td>\n",
       "      <td>5298</td>\n",
       "    </tr>\n",
       "    <tr>\n",
       "      <th>18</th>\n",
       "      <td>517078</td>\n",
       "      <td>10342</td>\n",
       "      <td>14823</td>\n",
       "      <td>5140</td>\n",
       "    </tr>\n",
       "    <tr>\n",
       "      <th>19</th>\n",
       "      <td>696035</td>\n",
       "      <td>13952</td>\n",
       "      <td>18853</td>\n",
       "      <td>6352</td>\n",
       "    </tr>\n",
       "    <tr>\n",
       "      <th>20</th>\n",
       "      <td>885669</td>\n",
       "      <td>16599</td>\n",
       "      <td>25021</td>\n",
       "      <td>7872</td>\n",
       "    </tr>\n",
       "    <tr>\n",
       "      <th>21</th>\n",
       "      <td>1030483</td>\n",
       "      <td>20397</td>\n",
       "      <td>30469</td>\n",
       "      <td>8829</td>\n",
       "    </tr>\n",
       "    <tr>\n",
       "      <th>22</th>\n",
       "      <td>1027269</td>\n",
       "      <td>20343</td>\n",
       "      <td>32504</td>\n",
       "      <td>8845</td>\n",
       "    </tr>\n",
       "    <tr>\n",
       "      <th>23</th>\n",
       "      <td>797754</td>\n",
       "      <td>17705</td>\n",
       "      <td>27434</td>\n",
       "      <td>6359</td>\n",
       "    </tr>\n",
       "  </tbody>\n",
       "</table>\n",
       "</div>"
      ],
      "text/plain": [
       "用户行为类型        1      2      3     4\n",
       "hour                               \n",
       "0        487341  11062  14156  4845\n",
       "1        252991   6276   6712  1703\n",
       "2        139139   3311   3834   806\n",
       "3         93250   2282   2480   504\n",
       "4         75832   2010   2248   397\n",
       "5         83545   2062   2213   476\n",
       "6        150356   3651   3768  1023\n",
       "7        272470   5885   7044  1938\n",
       "8        374701   7849   9970  3586\n",
       "9        456781  10507  12956  5707\n",
       "10       515960  11185  16203  7317\n",
       "11       493679  10918  15257  7086\n",
       "12       500036   9940  15025  6956\n",
       "13       561513  11694  17419  7717\n",
       "14       558246  11695  17067  7207\n",
       "15       562238  12010  17289  7312\n",
       "16       541846  11127  16304  6930\n",
       "17       476369   9754  14515  5298\n",
       "18       517078  10342  14823  5140\n",
       "19       696035  13952  18853  6352\n",
       "20       885669  16599  25021  7872\n",
       "21      1030483  20397  30469  8829\n",
       "22      1027269  20343  32504  8845\n",
       "23       797754  17705  27434  6359"
      ]
     },
     "execution_count": 29,
     "metadata": {},
     "output_type": "execute_result"
    }
   ],
   "source": [
    "\n",
    "pv_detail"
   ]
  },
  {
   "cell_type": "code",
   "execution_count": 30,
   "id": "mounted-budapest",
   "metadata": {},
   "outputs": [],
   "source": [
    "pv_detail = pd.pivot_table(columns='用户行为类型', index = 'hour' ,data=dt ,values='用户名',aggfunc='count')"
   ]
  },
  {
   "cell_type": "code",
   "execution_count": 19,
   "id": "neutral-chair",
   "metadata": {},
   "outputs": [
    {
     "data": {
      "text/html": [
       "<div>\n",
       "<style scoped>\n",
       "    .dataframe tbody tr th:only-of-type {\n",
       "        vertical-align: middle;\n",
       "    }\n",
       "\n",
       "    .dataframe tbody tr th {\n",
       "        vertical-align: top;\n",
       "    }\n",
       "\n",
       "    .dataframe thead th {\n",
       "        text-align: right;\n",
       "    }\n",
       "</style>\n",
       "<table border=\"1\" class=\"dataframe\">\n",
       "  <thead>\n",
       "    <tr style=\"text-align: right;\">\n",
       "      <th>用户行为类型</th>\n",
       "      <th>4</th>\n",
       "    </tr>\n",
       "    <tr>\n",
       "      <th>hour</th>\n",
       "      <th></th>\n",
       "    </tr>\n",
       "  </thead>\n",
       "  <tbody>\n",
       "    <tr>\n",
       "      <th>0</th>\n",
       "      <td>4845</td>\n",
       "    </tr>\n",
       "    <tr>\n",
       "      <th>1</th>\n",
       "      <td>1703</td>\n",
       "    </tr>\n",
       "    <tr>\n",
       "      <th>2</th>\n",
       "      <td>806</td>\n",
       "    </tr>\n",
       "    <tr>\n",
       "      <th>3</th>\n",
       "      <td>504</td>\n",
       "    </tr>\n",
       "    <tr>\n",
       "      <th>4</th>\n",
       "      <td>397</td>\n",
       "    </tr>\n",
       "    <tr>\n",
       "      <th>5</th>\n",
       "      <td>476</td>\n",
       "    </tr>\n",
       "    <tr>\n",
       "      <th>6</th>\n",
       "      <td>1023</td>\n",
       "    </tr>\n",
       "    <tr>\n",
       "      <th>7</th>\n",
       "      <td>1938</td>\n",
       "    </tr>\n",
       "    <tr>\n",
       "      <th>8</th>\n",
       "      <td>3586</td>\n",
       "    </tr>\n",
       "    <tr>\n",
       "      <th>9</th>\n",
       "      <td>5707</td>\n",
       "    </tr>\n",
       "    <tr>\n",
       "      <th>10</th>\n",
       "      <td>7317</td>\n",
       "    </tr>\n",
       "    <tr>\n",
       "      <th>11</th>\n",
       "      <td>7086</td>\n",
       "    </tr>\n",
       "    <tr>\n",
       "      <th>12</th>\n",
       "      <td>6956</td>\n",
       "    </tr>\n",
       "    <tr>\n",
       "      <th>13</th>\n",
       "      <td>7717</td>\n",
       "    </tr>\n",
       "    <tr>\n",
       "      <th>14</th>\n",
       "      <td>7207</td>\n",
       "    </tr>\n",
       "    <tr>\n",
       "      <th>15</th>\n",
       "      <td>7312</td>\n",
       "    </tr>\n",
       "    <tr>\n",
       "      <th>16</th>\n",
       "      <td>6930</td>\n",
       "    </tr>\n",
       "    <tr>\n",
       "      <th>17</th>\n",
       "      <td>5298</td>\n",
       "    </tr>\n",
       "    <tr>\n",
       "      <th>18</th>\n",
       "      <td>5140</td>\n",
       "    </tr>\n",
       "    <tr>\n",
       "      <th>19</th>\n",
       "      <td>6352</td>\n",
       "    </tr>\n",
       "    <tr>\n",
       "      <th>20</th>\n",
       "      <td>7872</td>\n",
       "    </tr>\n",
       "    <tr>\n",
       "      <th>21</th>\n",
       "      <td>8829</td>\n",
       "    </tr>\n",
       "    <tr>\n",
       "      <th>22</th>\n",
       "      <td>8845</td>\n",
       "    </tr>\n",
       "    <tr>\n",
       "      <th>23</th>\n",
       "      <td>6359</td>\n",
       "    </tr>\n",
       "  </tbody>\n",
       "</table>\n",
       "</div>"
      ],
      "text/plain": [
       "用户行为类型     4\n",
       "hour        \n",
       "0       4845\n",
       "1       1703\n",
       "2        806\n",
       "3        504\n",
       "4        397\n",
       "5        476\n",
       "6       1023\n",
       "7       1938\n",
       "8       3586\n",
       "9       5707\n",
       "10      7317\n",
       "11      7086\n",
       "12      6956\n",
       "13      7717\n",
       "14      7207\n",
       "15      7312\n",
       "16      6930\n",
       "17      5298\n",
       "18      5140\n",
       "19      6352\n",
       "20      7872\n",
       "21      8829\n",
       "22      8845\n",
       "23      6359"
      ]
     },
     "execution_count": 19,
     "metadata": {},
     "output_type": "execute_result"
    }
   ],
   "source": [
    "pv_detail"
   ]
  },
  {
   "cell_type": "code",
   "execution_count": 39,
   "id": "ancient-tulsa",
   "metadata": {},
   "outputs": [],
   "source": [
    "#%matplotlib auto"
   ]
  },
  {
   "cell_type": "code",
   "execution_count": 31,
   "id": "generous-skiing",
   "metadata": {},
   "outputs": [
    {
     "data": {
      "image/png": "[encoded data removed]",
      "text/plain": [
       "<Figure size 1152x648 with 1 Axes>"
      ]
     },
     "metadata": {
      "needs_background": "light"
     },
     "output_type": "display_data"
    }
   ],
   "source": [
    "plt.figure(figsize=(16,9))\n",
    "sns.lineplot(data=pv_detail.iloc[:,1:])\n",
    "\n",
    "plt.show()\n",
    "#1-点击；2-收藏；3-购物车；4：支付\n",
    "\n",
    "#可以看出加购的用户行为高于收藏的用户行为，后续可以把加购的用户行为放在前面分析"
   ]
  },
  {
   "cell_type": "code",
   "execution_count": 32,
   "id": "deluxe-philosophy",
   "metadata": {},
   "outputs": [
    {
     "data": {
      "image/png": "[encoded data removed]",
      "text/plain": [
       "<Figure size 1152x648 with 1 Axes>"
      ]
     },
     "metadata": {
      "needs_background": "light"
     },
     "output_type": "display_data"
    }
   ],
   "source": [
    "plt.figure(figsize=(16,9))\n",
    "sns.lineplot(data=pv_detail.iloc[:,0])\n",
    "plt.show()"
   ]
  },
  {
   "cell_type": "markdown",
   "id": "nutritional-notification",
   "metadata": {},
   "source": [
    "用户消费行为分析 "
   ]
  },
  {
   "cell_type": "markdown",
   "id": "periodic-interference",
   "metadata": {},
   "source": [
    "分析购买用户"
   ]
  },
  {
   "cell_type": "code",
   "execution_count": 37,
   "id": "better-function",
   "metadata": {},
   "outputs": [],
   "source": [
    "data_user_buy=dt[dt['用户行为类型']==4].groupby('用户名')['用户行为类型'].count()\n",
    "#求已经购买的用户，每个用户的浏览记录数\n",
    "\n",
    "#uv_daily=dt.groupby('date')['用户名'].count()按天统计用户点击记录数\n",
    "#uv_daily=dt.groupby('date')['用户名'].nunique()按天统计去重用户数量\n",
    "#已经购买的用户里面访问次数\n",
    "#data_user_buy.describe() #查看用户的浏览次数\n"
   ]
  },
  {
   "cell_type": "code",
   "execution_count": 38,
   "id": "weekly-junior",
   "metadata": {},
   "outputs": [
    {
     "data": {
      "text/plain": [
       "用户名\n",
       "4913          6\n",
       "6118          1\n",
       "7528          6\n",
       "7591         21\n",
       "12645         8\n",
       "             ..\n",
       "142376113     1\n",
       "142412247    12\n",
       "142430177     5\n",
       "142450275    40\n",
       "142455899    13\n",
       "Name: 用户行为类型, Length: 8886, dtype: int64"
      ]
     },
     "execution_count": 38,
     "metadata": {},
     "output_type": "execute_result"
    }
   ],
   "source": [
    "data_user_buy"
   ]
  },
  {
   "cell_type": "code",
   "execution_count": 39,
   "id": "generic-authorization",
   "metadata": {},
   "outputs": [
    {
     "data": {
      "image/png": "[encoded data removed]",
      "text/plain": [
       "<Figure size 432x288 with 1 Axes>"
      ]
     },
     "metadata": {
      "needs_background": "light"
     },
     "output_type": "display_data"
    }
   ],
   "source": [
    "plt.hist(x=data_user_buy,bins=30)\n",
    "plt.show()"
   ]
  },
  {
   "cell_type": "markdown",
   "id": "satellite-organ",
   "metadata": {},
   "source": [
    "#ARPPU（average revenue per paying user）\n",
    "#付费用户，平均付费额度\n",
    "\n"
   ]
  },
  {
   "cell_type": "code",
   "execution_count": null,
   "id": "least-participation",
   "metadata": {},
   "outputs": [],
   "source": [
    "#针对已付费用户计算消费次数，即人均消费次数\n",
    "data_use_buy1=dt[dt['用户行为类型']==4].groupby(['date','用户名'])['用户行为类型'].count().reset_index().rename(columns={'用户行为类型':'total'})"
   ]
  },
  {
   "cell_type": "code",
   "execution_count": 42,
   "id": "floating-thickness",
   "metadata": {},
   "outputs": [
    {
     "data": {
      "text/html": [
       "<div>\n",
       "<style scoped>\n",
       "    .dataframe tbody tr th:only-of-type {\n",
       "        vertical-align: middle;\n",
       "    }\n",
       "\n",
       "    .dataframe tbody tr th {\n",
       "        vertical-align: top;\n",
       "    }\n",
       "\n",
       "    .dataframe thead th {\n",
       "        text-align: right;\n",
       "    }\n",
       "</style>\n",
       "<table border=\"1\" class=\"dataframe\">\n",
       "  <thead>\n",
       "    <tr style=\"text-align: right;\">\n",
       "      <th></th>\n",
       "      <th>date</th>\n",
       "      <th>用户名</th>\n",
       "      <th>total</th>\n",
       "    </tr>\n",
       "  </thead>\n",
       "  <tbody>\n",
       "    <tr>\n",
       "      <th>0</th>\n",
       "      <td>2014-11-18</td>\n",
       "      <td>54056</td>\n",
       "      <td>1</td>\n",
       "    </tr>\n",
       "    <tr>\n",
       "      <th>1</th>\n",
       "      <td>2014-11-18</td>\n",
       "      <td>79824</td>\n",
       "      <td>2</td>\n",
       "    </tr>\n",
       "    <tr>\n",
       "      <th>2</th>\n",
       "      <td>2014-11-18</td>\n",
       "      <td>88930</td>\n",
       "      <td>2</td>\n",
       "    </tr>\n",
       "    <tr>\n",
       "      <th>3</th>\n",
       "      <td>2014-11-18</td>\n",
       "      <td>247543</td>\n",
       "      <td>5</td>\n",
       "    </tr>\n",
       "    <tr>\n",
       "      <th>4</th>\n",
       "      <td>2014-11-18</td>\n",
       "      <td>475826</td>\n",
       "      <td>3</td>\n",
       "    </tr>\n",
       "    <tr>\n",
       "      <th>...</th>\n",
       "      <td>...</td>\n",
       "      <td>...</td>\n",
       "      <td>...</td>\n",
       "    </tr>\n",
       "    <tr>\n",
       "      <th>49196</th>\n",
       "      <td>2014-12-18</td>\n",
       "      <td>142138619</td>\n",
       "      <td>1</td>\n",
       "    </tr>\n",
       "    <tr>\n",
       "      <th>49197</th>\n",
       "      <td>2014-12-18</td>\n",
       "      <td>142168798</td>\n",
       "      <td>2</td>\n",
       "    </tr>\n",
       "    <tr>\n",
       "      <th>49198</th>\n",
       "      <td>2014-12-18</td>\n",
       "      <td>142244794</td>\n",
       "      <td>1</td>\n",
       "    </tr>\n",
       "    <tr>\n",
       "      <th>49199</th>\n",
       "      <td>2014-12-18</td>\n",
       "      <td>142306361</td>\n",
       "      <td>2</td>\n",
       "    </tr>\n",
       "    <tr>\n",
       "      <th>49200</th>\n",
       "      <td>2014-12-18</td>\n",
       "      <td>142430177</td>\n",
       "      <td>1</td>\n",
       "    </tr>\n",
       "  </tbody>\n",
       "</table>\n",
       "<p>49201 rows × 3 columns</p>\n",
       "</div>"
      ],
      "text/plain": [
       "            date        用户名  total\n",
       "0     2014-11-18      54056      1\n",
       "1     2014-11-18      79824      2\n",
       "2     2014-11-18      88930      2\n",
       "3     2014-11-18     247543      5\n",
       "4     2014-11-18     475826      3\n",
       "...          ...        ...    ...\n",
       "49196 2014-12-18  142138619      1\n",
       "49197 2014-12-18  142168798      2\n",
       "49198 2014-12-18  142244794      1\n",
       "49199 2014-12-18  142306361      2\n",
       "49200 2014-12-18  142430177      1\n",
       "\n",
       "[49201 rows x 3 columns]"
      ]
     },
     "execution_count": 42,
     "metadata": {},
     "output_type": "execute_result"
    }
   ],
   "source": [
    "data_use_buy1"
   ]
  },
  {
   "cell_type": "code",
   "execution_count": 43,
   "id": "faced-bennett",
   "metadata": {},
   "outputs": [],
   "source": [
    "data_use_buy2=data_use_buy1.groupby('date').sum()['total']/data_use_buy1.groupby('date').count()['total']\n",
    "#总消费次数/总消费人次=平均人均消费次数"
   ]
  },
  {
   "cell_type": "code",
   "execution_count": 44,
   "id": "medieval-binary",
   "metadata": {},
   "outputs": [
    {
     "data": {
      "text/plain": [
       "date\n",
       "2014-11-18    2.423652\n",
       "2014-11-19    2.439444\n",
       "2014-11-20    2.320375\n",
       "2014-11-21    2.271429\n",
       "2014-11-22    2.530120\n",
       "2014-11-23    2.330780\n",
       "2014-11-24    2.248031\n",
       "2014-11-25    2.313961\n",
       "2014-11-26    2.402824\n",
       "2014-11-27    2.403405\n",
       "2014-11-28    2.231623\n",
       "2014-11-29    2.331881\n",
       "2014-11-30    2.357236\n",
       "2014-12-01    2.359083\n",
       "2014-12-02    2.284543\n",
       "2014-12-03    2.289334\n",
       "2014-12-04    2.328707\n",
       "2014-12-05    2.223041\n",
       "2014-12-06    2.253444\n",
       "2014-12-07    2.320741\n",
       "2014-12-08    2.204384\n",
       "2014-12-09    2.413576\n",
       "2014-12-10    2.230236\n",
       "2014-12-11    2.226363\n",
       "2014-12-12    3.913523\n",
       "2014-12-13    2.245320\n",
       "2014-12-14    2.312749\n",
       "2014-12-15    2.313460\n",
       "2014-12-16    2.285455\n",
       "2014-12-17    2.302548\n",
       "2014-12-18    2.310567\n",
       "Name: total, dtype: float64"
      ]
     },
     "execution_count": 44,
     "metadata": {},
     "output_type": "execute_result"
    }
   ],
   "source": [
    "data_use_buy2"
   ]
  },
  {
   "cell_type": "code",
   "execution_count": 46,
   "id": "angry-apparel",
   "metadata": {},
   "outputs": [
    {
     "data": {
      "image/png": "[encoded data removed]",
      "text/plain": [
       "<Figure size 432x288 with 1 Axes>"
      ]
     },
     "metadata": {
      "needs_background": "light"
     },
     "output_type": "display_data"
    }
   ],
   "source": [
    "data_use_buy2.plot()\n",
    "plt.title('人均消费次数')\n",
    "plt.show()\n"
   ]
  },
  {
   "cell_type": "code",
   "execution_count": 47,
   "id": "square-rwanda",
   "metadata": {},
   "outputs": [
    {
     "data": {
      "text/plain": [
       "count    31.000000\n",
       "mean      2.368446\n",
       "std       0.296108\n",
       "min       2.204384\n",
       "25%       2.262436\n",
       "50%       2.313460\n",
       "75%       2.358159\n",
       "max       3.913523\n",
       "Name: total, dtype: float64"
      ]
     },
     "execution_count": 47,
     "metadata": {},
     "output_type": "execute_result"
    }
   ],
   "source": [
    "data_use_buy2.describe()"
   ]
  },
  {
   "cell_type": "code",
   "execution_count": 48,
   "id": "magnetic-rocket",
   "metadata": {},
   "outputs": [],
   "source": [
    "#每天人均购买2次左右，最多的是购买近4次\n"
   ]
  },
  {
   "cell_type": "code",
   "execution_count": 49,
   "id": "ideal-humanity",
   "metadata": {},
   "outputs": [
    {
     "data": {
      "text/html": [
       "<div>\n",
       "<style scoped>\n",
       "    .dataframe tbody tr th:only-of-type {\n",
       "        vertical-align: middle;\n",
       "    }\n",
       "\n",
       "    .dataframe tbody tr th {\n",
       "        vertical-align: top;\n",
       "    }\n",
       "\n",
       "    .dataframe thead th {\n",
       "        text-align: right;\n",
       "    }\n",
       "</style>\n",
       "<table border=\"1\" class=\"dataframe\">\n",
       "  <thead>\n",
       "    <tr style=\"text-align: right;\">\n",
       "      <th></th>\n",
       "      <th>用户名</th>\n",
       "      <th>商品名</th>\n",
       "      <th>用户行为类型</th>\n",
       "      <th>地理位置</th>\n",
       "      <th>品类名</th>\n",
       "      <th>行为时间</th>\n",
       "      <th>date</th>\n",
       "      <th>hour</th>\n",
       "    </tr>\n",
       "  </thead>\n",
       "  <tbody>\n",
       "    <tr>\n",
       "      <th>0</th>\n",
       "      <td>73462715</td>\n",
       "      <td>378485233</td>\n",
       "      <td>1</td>\n",
       "      <td>NaN</td>\n",
       "      <td>9130</td>\n",
       "      <td>2014-11-18 00:00:00</td>\n",
       "      <td>2014-11-18</td>\n",
       "      <td>0</td>\n",
       "    </tr>\n",
       "    <tr>\n",
       "      <th>1</th>\n",
       "      <td>36090137</td>\n",
       "      <td>236748115</td>\n",
       "      <td>1</td>\n",
       "      <td>NaN</td>\n",
       "      <td>10523</td>\n",
       "      <td>2014-11-18 00:00:00</td>\n",
       "      <td>2014-11-18</td>\n",
       "      <td>0</td>\n",
       "    </tr>\n",
       "    <tr>\n",
       "      <th>2</th>\n",
       "      <td>40459733</td>\n",
       "      <td>155218177</td>\n",
       "      <td>1</td>\n",
       "      <td>NaN</td>\n",
       "      <td>8561</td>\n",
       "      <td>2014-11-18 00:00:00</td>\n",
       "      <td>2014-11-18</td>\n",
       "      <td>0</td>\n",
       "    </tr>\n",
       "    <tr>\n",
       "      <th>3</th>\n",
       "      <td>814199</td>\n",
       "      <td>149808524</td>\n",
       "      <td>1</td>\n",
       "      <td>NaN</td>\n",
       "      <td>9053</td>\n",
       "      <td>2014-11-18 00:00:00</td>\n",
       "      <td>2014-11-18</td>\n",
       "      <td>0</td>\n",
       "    </tr>\n",
       "    <tr>\n",
       "      <th>4</th>\n",
       "      <td>113309982</td>\n",
       "      <td>5730861</td>\n",
       "      <td>1</td>\n",
       "      <td>NaN</td>\n",
       "      <td>3783</td>\n",
       "      <td>2014-11-18 00:00:00</td>\n",
       "      <td>2014-11-18</td>\n",
       "      <td>0</td>\n",
       "    </tr>\n",
       "    <tr>\n",
       "      <th>...</th>\n",
       "      <td>...</td>\n",
       "      <td>...</td>\n",
       "      <td>...</td>\n",
       "      <td>...</td>\n",
       "      <td>...</td>\n",
       "      <td>...</td>\n",
       "      <td>...</td>\n",
       "      <td>...</td>\n",
       "    </tr>\n",
       "    <tr>\n",
       "      <th>12256901</th>\n",
       "      <td>132653097</td>\n",
       "      <td>119946062</td>\n",
       "      <td>2</td>\n",
       "      <td>NaN</td>\n",
       "      <td>6054</td>\n",
       "      <td>2014-12-18 23:00:00</td>\n",
       "      <td>2014-12-18</td>\n",
       "      <td>23</td>\n",
       "    </tr>\n",
       "    <tr>\n",
       "      <th>12256902</th>\n",
       "      <td>130082553</td>\n",
       "      <td>296196819</td>\n",
       "      <td>1</td>\n",
       "      <td>NaN</td>\n",
       "      <td>11532</td>\n",
       "      <td>2014-12-18 23:00:00</td>\n",
       "      <td>2014-12-18</td>\n",
       "      <td>23</td>\n",
       "    </tr>\n",
       "    <tr>\n",
       "      <th>12256903</th>\n",
       "      <td>43592945</td>\n",
       "      <td>350594832</td>\n",
       "      <td>1</td>\n",
       "      <td>9rhhgph</td>\n",
       "      <td>9541</td>\n",
       "      <td>2014-12-18 23:00:00</td>\n",
       "      <td>2014-12-18</td>\n",
       "      <td>23</td>\n",
       "    </tr>\n",
       "    <tr>\n",
       "      <th>12256904</th>\n",
       "      <td>12833799</td>\n",
       "      <td>186993938</td>\n",
       "      <td>1</td>\n",
       "      <td>954g37v</td>\n",
       "      <td>3798</td>\n",
       "      <td>2014-12-18 23:00:00</td>\n",
       "      <td>2014-12-18</td>\n",
       "      <td>23</td>\n",
       "    </tr>\n",
       "    <tr>\n",
       "      <th>12256905</th>\n",
       "      <td>77522552</td>\n",
       "      <td>69292191</td>\n",
       "      <td>1</td>\n",
       "      <td>NaN</td>\n",
       "      <td>889</td>\n",
       "      <td>2014-12-18 23:00:00</td>\n",
       "      <td>2014-12-18</td>\n",
       "      <td>23</td>\n",
       "    </tr>\n",
       "  </tbody>\n",
       "</table>\n",
       "<p>12256906 rows × 8 columns</p>\n",
       "</div>"
      ],
      "text/plain": [
       "                用户名        商品名  用户行为类型     地理位置    品类名                行为时间  \\\n",
       "0          73462715  378485233       1      NaN   9130 2014-11-18 00:00:00   \n",
       "1          36090137  236748115       1      NaN  10523 2014-11-18 00:00:00   \n",
       "2          40459733  155218177       1      NaN   8561 2014-11-18 00:00:00   \n",
       "3            814199  149808524       1      NaN   9053 2014-11-18 00:00:00   \n",
       "4         113309982    5730861       1      NaN   3783 2014-11-18 00:00:00   \n",
       "...             ...        ...     ...      ...    ...                 ...   \n",
       "12256901  132653097  119946062       2      NaN   6054 2014-12-18 23:00:00   \n",
       "12256902  130082553  296196819       1      NaN  11532 2014-12-18 23:00:00   \n",
       "12256903   43592945  350594832       1  9rhhgph   9541 2014-12-18 23:00:00   \n",
       "12256904   12833799  186993938       1  954g37v   3798 2014-12-18 23:00:00   \n",
       "12256905   77522552   69292191       1      NaN    889 2014-12-18 23:00:00   \n",
       "\n",
       "               date  hour  \n",
       "0        2014-11-18     0  \n",
       "1        2014-11-18     0  \n",
       "2        2014-11-18     0  \n",
       "3        2014-11-18     0  \n",
       "4        2014-11-18     0  \n",
       "...             ...   ...  \n",
       "12256901 2014-12-18    23  \n",
       "12256902 2014-12-18    23  \n",
       "12256903 2014-12-18    23  \n",
       "12256904 2014-12-18    23  \n",
       "12256905 2014-12-18    23  \n",
       "\n",
       "[12256906 rows x 8 columns]"
      ]
     },
     "execution_count": 49,
     "metadata": {},
     "output_type": "execute_result"
    }
   ],
   "source": [
    "dt"
   ]
  },
  {
   "cell_type": "code",
   "execution_count": 51,
   "id": "through-sewing",
   "metadata": {},
   "outputs": [],
   "source": [
    "dt['operation']=1\n",
    "#计算不同行为访问量\n",
    "data_use_buy3=dt.groupby(['date','用户名','用户行为类型'])['operation'].count().reset_index().rename(columns={'operation':'total'})"
   ]
  },
  {
   "cell_type": "code",
   "execution_count": 52,
   "id": "processed-construction",
   "metadata": {},
   "outputs": [
    {
     "data": {
      "text/html": [
       "<div>\n",
       "<style scoped>\n",
       "    .dataframe tbody tr th:only-of-type {\n",
       "        vertical-align: middle;\n",
       "    }\n",
       "\n",
       "    .dataframe tbody tr th {\n",
       "        vertical-align: top;\n",
       "    }\n",
       "\n",
       "    .dataframe thead th {\n",
       "        text-align: right;\n",
       "    }\n",
       "</style>\n",
       "<table border=\"1\" class=\"dataframe\">\n",
       "  <thead>\n",
       "    <tr style=\"text-align: right;\">\n",
       "      <th></th>\n",
       "      <th>date</th>\n",
       "      <th>用户名</th>\n",
       "      <th>用户行为类型</th>\n",
       "      <th>total</th>\n",
       "    </tr>\n",
       "  </thead>\n",
       "  <tbody>\n",
       "    <tr>\n",
       "      <th>0</th>\n",
       "      <td>2014-11-18</td>\n",
       "      <td>4913</td>\n",
       "      <td>1</td>\n",
       "      <td>27</td>\n",
       "    </tr>\n",
       "    <tr>\n",
       "      <th>1</th>\n",
       "      <td>2014-11-18</td>\n",
       "      <td>4913</td>\n",
       "      <td>2</td>\n",
       "      <td>1</td>\n",
       "    </tr>\n",
       "    <tr>\n",
       "      <th>2</th>\n",
       "      <td>2014-11-18</td>\n",
       "      <td>7591</td>\n",
       "      <td>1</td>\n",
       "      <td>4</td>\n",
       "    </tr>\n",
       "    <tr>\n",
       "      <th>3</th>\n",
       "      <td>2014-11-18</td>\n",
       "      <td>12645</td>\n",
       "      <td>1</td>\n",
       "      <td>25</td>\n",
       "    </tr>\n",
       "    <tr>\n",
       "      <th>4</th>\n",
       "      <td>2014-11-18</td>\n",
       "      <td>54056</td>\n",
       "      <td>1</td>\n",
       "      <td>13</td>\n",
       "    </tr>\n",
       "    <tr>\n",
       "      <th>...</th>\n",
       "      <td>...</td>\n",
       "      <td>...</td>\n",
       "      <td>...</td>\n",
       "      <td>...</td>\n",
       "    </tr>\n",
       "    <tr>\n",
       "      <th>375435</th>\n",
       "      <td>2014-12-18</td>\n",
       "      <td>142430177</td>\n",
       "      <td>3</td>\n",
       "      <td>2</td>\n",
       "    </tr>\n",
       "    <tr>\n",
       "      <th>375436</th>\n",
       "      <td>2014-12-18</td>\n",
       "      <td>142430177</td>\n",
       "      <td>4</td>\n",
       "      <td>1</td>\n",
       "    </tr>\n",
       "    <tr>\n",
       "      <th>375437</th>\n",
       "      <td>2014-12-18</td>\n",
       "      <td>142450275</td>\n",
       "      <td>1</td>\n",
       "      <td>272</td>\n",
       "    </tr>\n",
       "    <tr>\n",
       "      <th>375438</th>\n",
       "      <td>2014-12-18</td>\n",
       "      <td>142450275</td>\n",
       "      <td>2</td>\n",
       "      <td>3</td>\n",
       "    </tr>\n",
       "    <tr>\n",
       "      <th>375439</th>\n",
       "      <td>2014-12-18</td>\n",
       "      <td>142450275</td>\n",
       "      <td>3</td>\n",
       "      <td>11</td>\n",
       "    </tr>\n",
       "  </tbody>\n",
       "</table>\n",
       "<p>375440 rows × 4 columns</p>\n",
       "</div>"
      ],
      "text/plain": [
       "             date        用户名  用户行为类型  total\n",
       "0      2014-11-18       4913       1     27\n",
       "1      2014-11-18       4913       2      1\n",
       "2      2014-11-18       7591       1      4\n",
       "3      2014-11-18      12645       1     25\n",
       "4      2014-11-18      54056       1     13\n",
       "...           ...        ...     ...    ...\n",
       "375435 2014-12-18  142430177       3      2\n",
       "375436 2014-12-18  142430177       4      1\n",
       "375437 2014-12-18  142450275       1    272\n",
       "375438 2014-12-18  142450275       2      3\n",
       "375439 2014-12-18  142450275       3     11\n",
       "\n",
       "[375440 rows x 4 columns]"
      ]
     },
     "execution_count": 52,
     "metadata": {},
     "output_type": "execute_result"
    }
   ],
   "source": [
    "data_use_buy3"
   ]
  },
  {
   "cell_type": "code",
   "execution_count": 58,
   "id": "rolled-columbia",
   "metadata": {},
   "outputs": [
    {
     "data": {
      "text/plain": [
       "date\n",
       "2014-11-18     3730\n",
       "2014-11-19     3686\n",
       "2014-11-20     3462\n",
       "2014-11-21     3021\n",
       "2014-11-22     3570\n",
       "2014-11-23     3347\n",
       "2014-11-24     3426\n",
       "2014-11-25     3464\n",
       "2014-11-26     3573\n",
       "2014-11-27     3670\n",
       "2014-11-28     3218\n",
       "2014-11-29     3211\n",
       "2014-11-30     3616\n",
       "2014-12-01     3909\n",
       "2014-12-02     3621\n",
       "2014-12-03     3885\n",
       "2014-12-04     3691\n",
       "2014-12-05     3319\n",
       "2014-12-06     3272\n",
       "2014-12-07     3256\n",
       "2014-12-08     3419\n",
       "2014-12-09     3449\n",
       "2014-12-10     3216\n",
       "2014-12-11     3226\n",
       "2014-12-12    15251\n",
       "2014-12-13     3478\n",
       "2014-12-14     3483\n",
       "2014-12-15     3764\n",
       "2014-12-16     3771\n",
       "2014-12-17     3615\n",
       "2014-12-18     3586\n",
       "Name: total, dtype: int64"
      ]
     },
     "execution_count": 58,
     "metadata": {},
     "output_type": "execute_result"
    }
   ],
   "source": [
    "data_use_buy3[data_use_buy3['用户行为类型']==4].groupby('date').total.sum()\n",
    "\n",
    "\n"
   ]
  },
  {
   "cell_type": "code",
   "execution_count": 57,
   "id": "streaming-numbers",
   "metadata": {},
   "outputs": [
    {
     "data": {
      "text/plain": [
       "date\n",
       "2014-11-18    1539\n",
       "2014-11-19    1511\n",
       "2014-11-20    1492\n",
       "2014-11-21    1330\n",
       "2014-11-22    1411\n",
       "2014-11-23    1436\n",
       "2014-11-24    1524\n",
       "2014-11-25    1497\n",
       "2014-11-26    1487\n",
       "2014-11-27    1527\n",
       "2014-11-28    1442\n",
       "2014-11-29    1377\n",
       "2014-11-30    1534\n",
       "2014-12-01    1657\n",
       "2014-12-02    1585\n",
       "2014-12-03    1697\n",
       "2014-12-04    1585\n",
       "2014-12-05    1493\n",
       "2014-12-06    1452\n",
       "2014-12-07    1403\n",
       "2014-12-08    1551\n",
       "2014-12-09    1429\n",
       "2014-12-10    1442\n",
       "2014-12-11    1449\n",
       "2014-12-12    3897\n",
       "2014-12-13    1549\n",
       "2014-12-14    1506\n",
       "2014-12-15    1627\n",
       "2014-12-16    1650\n",
       "2014-12-17    1570\n",
       "2014-12-18    1552\n",
       "Name: 用户名, dtype: int64"
      ]
     },
     "execution_count": 57,
     "metadata": {},
     "output_type": "execute_result"
    }
   ],
   "source": [
    "data_use_buy3[data_use_buy3['用户行为类型']==4].groupby('date')['用户名'].nunique()"
   ]
  },
  {
   "cell_type": "code",
   "execution_count": 62,
   "id": "moral-abortion",
   "metadata": {},
   "outputs": [
    {
     "data": {
      "text/plain": [
       "<AxesSubplot:xlabel='date'>"
      ]
     },
     "execution_count": 62,
     "metadata": {},
     "output_type": "execute_result"
    },
    {
     "data": {
      "image/png": "[encoded data removed]",
      "text/plain": [
       "<Figure size 432x288 with 1 Axes>"
      ]
     },
     "metadata": {
      "needs_background": "light"
     },
     "output_type": "display_data"
    }
   ],
   "source": [
    "(data_use_buy3[data_use_buy3['用户行为类型']==4].groupby('date').total.sum()/data_use_buy3.groupby('date')['用户名'].nunique()).plot()\n",
    "#付费总次数/总用户数"
   ]
  },
  {
   "cell_type": "markdown",
   "id": "adapted-cooler",
   "metadata": {},
   "source": [
    "#付费率"
   ]
  },
  {
   "cell_type": "code",
   "execution_count": 64,
   "id": "turned-dryer",
   "metadata": {},
   "outputs": [],
   "source": [
    "#付费率=消费人数/活跃用户人数"
   ]
  },
  {
   "cell_type": "code",
   "execution_count": 65,
   "id": "greek-destination",
   "metadata": {},
   "outputs": [
    {
     "data": {
      "text/plain": [
       "Text(0.5, 1.0, 'daily_afford_rate')"
      ]
     },
     "execution_count": 65,
     "metadata": {},
     "output_type": "execute_result"
    },
    {
     "data": {
      "image/png": "[encoded data removed]",
      "text/plain": [
       "<Figure size 432x288 with 1 Axes>"
      ]
     },
     "metadata": {
      "needs_background": "light"
     },
     "output_type": "display_data"
    }
   ],
   "source": [
    "data_use_buy3.groupby('date').apply(lambda x:x[x.用户行为类型==4].total.count()/len(x.用户名.unique())).plot()\n",
    "plt.title('daily_afford_rate')"
   ]
  },
  {
   "cell_type": "code",
   "execution_count": 66,
   "id": "egyptian-balance",
   "metadata": {},
   "outputs": [
    {
     "name": "stdout",
     "output_type": "stream",
     "text": [
      "大多数用户消费：1次\n"
     ]
    },
    {
     "data": {
      "image/png": "[encoded data removed]",
      "text/plain": [
       "<Figure size 432x288 with 1 Axes>"
      ]
     },
     "metadata": {
      "needs_background": "light"
     },
     "output_type": "display_data"
    }
   ],
   "source": [
    "data_user_buy3=dt[dt.用户行为类型==4].groupby(['用户名','date','hour'])['operation'].sum().rename('buy_count')\n",
    "sns.distplot(data_user_buy3)\n",
    "print('大多数用户消费：{}次'.format(data_user_buy3.mode()[0]))"
   ]
  },
  {
   "cell_type": "markdown",
   "id": "preliminary-scanning",
   "metadata": {},
   "source": [
    "#复购行为，复购率"
   ]
  },
  {
   "cell_type": "code",
   "execution_count": 67,
   "id": "brilliant-trout",
   "metadata": {},
   "outputs": [
    {
     "ename": "SyntaxError",
     "evalue": "invalid character in identifier (<ipython-input-67-c601277bb884>, line 1)",
     "output_type": "error",
     "traceback": [
      "\u001b[1;36m  File \u001b[1;32m\"<ipython-input-67-c601277bb884>\"\u001b[1;36m, line \u001b[1;32m1\u001b[0m\n\u001b[1;33m    复购情况，即两天以上有购买行为,一天多次购买算一次\u001b[0m\n\u001b[1;37m                  ^\u001b[0m\n\u001b[1;31mSyntaxError\u001b[0m\u001b[1;31m:\u001b[0m invalid character in identifier\n"
     ]
    }
   ],
   "source": [
    "复购情况，即两天以上有购买行为,一天多次购买算一次\n",
    "复购率=有复购行为的用户数/有购买行为的用户总数"
   ]
  },
  {
   "cell_type": "code",
   "execution_count": 68,
   "id": "victorian-adventure",
   "metadata": {},
   "outputs": [
    {
     "name": "stdout",
     "output_type": "stream",
     "text": [
      "复购率: 0.8717\n"
     ]
    }
   ],
   "source": [
    "date_rebuy=dt[dt.用户行为类型==4].groupby('用户名')['date'].apply(lambda x:len(x.unique())).rename('rebuy_count')\n",
    "print('复购率:',round(date_rebuy[date_rebuy>=2].count()/date_rebuy.count(),4))"
   ]
  },
  {
   "cell_type": "code",
   "execution_count": 69,
   "id": "informative-microphone",
   "metadata": {},
   "outputs": [
    {
     "data": {
      "text/plain": [
       "Text(0, 0.5, 'gap_count')"
      ]
     },
     "execution_count": 69,
     "metadata": {},
     "output_type": "execute_result"
    },
    {
     "data": {
      "image/png": "[encoded data removed]",
      "text/plain": [
       "<Figure size 432x288 with 1 Axes>"
      ]
     },
     "metadata": {
      "needs_background": "light"
     },
     "output_type": "display_data"
    }
   ],
   "source": [
    "#所有复购时间间隔消费次数分布\n",
    "data_day_buy=dt[dt.用户行为类型==4].groupby(['用户名','date']).operation.count().reset_index()\n",
    "data_user_buy4=data_day_buy.groupby('用户名').date.apply(lambda x:x.sort_values().diff(1).dropna())\n",
    "data_user_buy4=data_user_buy4.map(lambda x:x.days)\n",
    "data_user_buy4.value_counts().plot(kind='bar')\n",
    "plt.title('time_gap')\n",
    "plt.xlabel('gap_day')\n",
    "plt.ylabel('gap_count')"
   ]
  },
  {
   "cell_type": "code",
   "execution_count": 70,
   "id": "popular-robinson",
   "metadata": {},
   "outputs": [
    {
     "data": {
      "text/plain": [
       "<AxesSubplot:xlabel='date', ylabel='Density'>"
      ]
     },
     "execution_count": 70,
     "metadata": {},
     "output_type": "execute_result"
    },
    {
     "data": {
      "image/png": "[encoded data removed]",
      "text/plain": [
       "<Figure size 432x288 with 1 Axes>"
      ]
     },
     "metadata": {
      "needs_background": "light"
     },
     "output_type": "display_data"
    }
   ],
   "source": [
    "#不同用户平均复购时间分析\n",
    "sns.distplot(data_user_buy4.reset_index().groupby('用户名').date.mean())"
   ]
  },
  {
   "cell_type": "code",
   "execution_count": 71,
   "id": "decreased-eagle",
   "metadata": {},
   "outputs": [
    {
     "ename": "SyntaxError",
     "evalue": "invalid syntax (<ipython-input-71-66230efc5c65>, line 1)",
     "output_type": "error",
     "traceback": [
      "\u001b[1;36m  File \u001b[1;32m\"<ipython-input-71-66230efc5c65>\"\u001b[1;36m, line \u001b[1;32m1\u001b[0m\n\u001b[1;33m    多数用户复购率为0.4693，消费次数随着消费时间间隔的增加而不断下降，在1-10天之内复购次数比较多，10天之后复购次数淘宝用户很少在进行复购，因此需要重视10天之内的淘宝用户复购行为，增加用户复购。不同用户平均复购时间呈正态分布，但是总体来看，呈现逐渐下降趋势。多数淘宝用户平均复购时间集中在1-5天时间间隔内\u001b[0m\n\u001b[1;37m                 ^\u001b[0m\n\u001b[1;31mSyntaxError\u001b[0m\u001b[1;31m:\u001b[0m invalid syntax\n"
     ]
    }
   ],
   "source": [
    "多数用户复购率为0.4693，消费次数随着消费时间间隔的增加而不断下降，\n",
    "在1-10天之内复购次数比较多，10天之后复购次数淘宝用户很少在进行复购，\n",
    "因此需要重视10天之内的淘宝用户复购行为，增加用户复购。不同用户平均复购时间呈正态分布，\n",
    "但是总体来看，呈现逐渐下降趋势。多数淘宝用户平均复购时间集中在1-5天时间间隔内"
   ]
  },
  {
   "cell_type": "markdown",
   "id": "fatty-upper",
   "metadata": {},
   "source": [
    "漏斗分析（浏览，点击，加购，支付）"
   ]
  },
  {
   "cell_type": "code",
   "execution_count": 76,
   "id": "discrete-regular",
   "metadata": {},
   "outputs": [],
   "source": [
    "data_user_count=dt['用户行为类型'].value_counts()"
   ]
  },
  {
   "cell_type": "code",
   "execution_count": 77,
   "id": "healthy-steps",
   "metadata": {},
   "outputs": [
    {
     "data": {
      "text/plain": [
       "1    11550581\n",
       "3      343564\n",
       "2      242556\n",
       "4      120205\n",
       "Name: 用户行为类型, dtype: int64"
      ]
     },
     "execution_count": 77,
     "metadata": {},
     "output_type": "execute_result"
    }
   ],
   "source": [
    "data_user_count"
   ]
  },
  {
   "cell_type": "code",
   "execution_count": 78,
   "id": "american-variation",
   "metadata": {},
   "outputs": [
    {
     "data": {
      "text/plain": [
       "11550581"
      ]
     },
     "execution_count": 78,
     "metadata": {},
     "output_type": "execute_result"
    }
   ],
   "source": [
    "#查看点击数据\n",
    "data_user_count[1]"
   ]
  },
  {
   "cell_type": "code",
   "execution_count": 79,
   "id": "breeding-sheriff",
   "metadata": {},
   "outputs": [
    {
     "data": {
      "text/plain": [
       "12256906"
      ]
     },
     "execution_count": 79,
     "metadata": {},
     "output_type": "execute_result"
    }
   ],
   "source": [
    "#计算总浏览量\n",
    "pv_all=dt['用户名'].count()\n",
    "pv_all"
   ]
  },
  {
   "cell_type": "code",
   "execution_count": 80,
   "id": "pretty-effect",
   "metadata": {},
   "outputs": [
    {
     "name": "stdout",
     "output_type": "stream",
     "text": [
      "总浏览量—点击量 流失率: 5.76%\n",
      "点击量-加入购物车量 流失率: 97.03%\n",
      "加入购物车量-收藏量 流失率: 29.40%\n",
      "收藏量—购买量 流失率: 50.44%\n"
     ]
    }
   ],
   "source": [
    "print('总浏览量—点击量 流失率: {:.2%}'.format((pv_all - data_user_count[1])/pv_all))\n",
    "print('点击量-加入购物车量 流失率: {:.2%}'.format((data_user_count[1] - data_user_count[3])/data_user_count[1]))\n",
    "print('加入购物车量-收藏量 流失率: {:.2%}'.format((data_user_count[3] - data_user_count[2])/data_user_count[3]))\n",
    "print('收藏量—购买量 流失率: {:.2%}'.format((data_user_count[2] - data_user_count[4])/data_user_count[2]))"
   ]
  },
  {
   "cell_type": "markdown",
   "id": "spatial-conditioning",
   "metadata": {},
   "source": [
    "RFM分析"
   ]
  },
  {
   "cell_type": "code",
   "execution_count": 81,
   "id": "bigger-bobby",
   "metadata": {},
   "outputs": [],
   "source": [
    "from datetime import datetime\n",
    "datenow=datetime(2014,12,20)\n",
    "\n",
    "#每位用户最近购买时间\n",
    "recent_buy_time=dt[dt.用户行为类型==4].groupby('用户名')['date'].apply(lambda x:datetime(2014,12,20)-x.sort_values().iloc[-1])\n",
    "recent_buy_time=recent_buy_time.reset_index().rename(columns={'date':'recent'})\n",
    "#可简写为：recent_buy_time=data_user[data_user.behavior_type==4].groupby('user_id').date.apply(lambda x:datetime(2014,12,20)-x.sort_values().iloc[-1]).reset_index().rename(columns={'date':'recent'})\n",
    "recent_buy_time.recent=recent_buy_time.recent.map(lambda x:x.days)\n",
    "\n",
    "\n",
    "#每个用户消费频率\n",
    "buy_freq=dt[dt.用户行为类型==4].groupby('用户名').date.count().reset_index().rename(columns={'date':'freq'})\n",
    "rfm=pd.merge(recent_buy_time,buy_freq,left_on='用户名',right_on='用户名',how='outer')"
   ]
  },
  {
   "cell_type": "code",
   "execution_count": 82,
   "id": "democratic-discovery",
   "metadata": {},
   "outputs": [
    {
     "data": {
      "text/html": [
       "<div>\n",
       "<style scoped>\n",
       "    .dataframe tbody tr th:only-of-type {\n",
       "        vertical-align: middle;\n",
       "    }\n",
       "\n",
       "    .dataframe tbody tr th {\n",
       "        vertical-align: top;\n",
       "    }\n",
       "\n",
       "    .dataframe thead th {\n",
       "        text-align: right;\n",
       "    }\n",
       "</style>\n",
       "<table border=\"1\" class=\"dataframe\">\n",
       "  <thead>\n",
       "    <tr style=\"text-align: right;\">\n",
       "      <th></th>\n",
       "      <th>用户名</th>\n",
       "      <th>recent</th>\n",
       "      <th>freq</th>\n",
       "      <th>recent_value</th>\n",
       "      <th>freq_value</th>\n",
       "      <th>rfm</th>\n",
       "    </tr>\n",
       "  </thead>\n",
       "  <tbody>\n",
       "    <tr>\n",
       "      <th>0</th>\n",
       "      <td>4913</td>\n",
       "      <td>4</td>\n",
       "      <td>6</td>\n",
       "      <td>2</td>\n",
       "      <td>1</td>\n",
       "      <td>21</td>\n",
       "    </tr>\n",
       "    <tr>\n",
       "      <th>1</th>\n",
       "      <td>6118</td>\n",
       "      <td>3</td>\n",
       "      <td>1</td>\n",
       "      <td>2</td>\n",
       "      <td>1</td>\n",
       "      <td>21</td>\n",
       "    </tr>\n",
       "    <tr>\n",
       "      <th>2</th>\n",
       "      <td>7528</td>\n",
       "      <td>7</td>\n",
       "      <td>6</td>\n",
       "      <td>1</td>\n",
       "      <td>1</td>\n",
       "      <td>11</td>\n",
       "    </tr>\n",
       "    <tr>\n",
       "      <th>3</th>\n",
       "      <td>7591</td>\n",
       "      <td>7</td>\n",
       "      <td>21</td>\n",
       "      <td>1</td>\n",
       "      <td>2</td>\n",
       "      <td>12</td>\n",
       "    </tr>\n",
       "    <tr>\n",
       "      <th>4</th>\n",
       "      <td>12645</td>\n",
       "      <td>6</td>\n",
       "      <td>8</td>\n",
       "      <td>2</td>\n",
       "      <td>1</td>\n",
       "      <td>21</td>\n",
       "    </tr>\n",
       "  </tbody>\n",
       "</table>\n",
       "</div>"
      ],
      "text/plain": [
       "     用户名  recent  freq recent_value freq_value rfm\n",
       "0   4913       4     6            2          1  21\n",
       "1   6118       3     1            2          1  21\n",
       "2   7528       7     6            1          1  11\n",
       "3   7591       7    21            1          2  12\n",
       "4  12645       6     8            2          1  21"
      ]
     },
     "execution_count": 82,
     "metadata": {},
     "output_type": "execute_result"
    }
   ],
   "source": [
    "#将各维度分成两个程度,基于等频分段，分数越高越好\n",
    "rfm['recent_value']=pd.qcut(rfm.recent,2,labels=['2','1']) #按组距分成两组\n",
    "rfm['freq_value']=pd.qcut(rfm.freq,2,labels=['1','2'])\n",
    "rfm['rfm']=rfm['recent_value'].str.cat(rfm['freq_value'])\n",
    "rfm.head()"
   ]
  },
  {
   "cell_type": "code",
   "execution_count": 83,
   "id": "lovely-bones",
   "metadata": {},
   "outputs": [
    {
     "data": {
      "text/plain": [
       "2    4900\n",
       "1    3986\n",
       "Name: recent_value, dtype: int64"
      ]
     },
     "execution_count": 83,
     "metadata": {},
     "output_type": "execute_result"
    }
   ],
   "source": [
    "rfm['recent_value'].value_counts()"
   ]
  },
  {
   "cell_type": "code",
   "execution_count": 84,
   "id": "intense-manitoba",
   "metadata": {},
   "outputs": [
    {
     "data": {
      "text/html": [
       "<div>\n",
       "<style scoped>\n",
       "    .dataframe tbody tr th:only-of-type {\n",
       "        vertical-align: middle;\n",
       "    }\n",
       "\n",
       "    .dataframe tbody tr th {\n",
       "        vertical-align: top;\n",
       "    }\n",
       "\n",
       "    .dataframe thead th {\n",
       "        text-align: right;\n",
       "    }\n",
       "</style>\n",
       "<table border=\"1\" class=\"dataframe\">\n",
       "  <thead>\n",
       "    <tr style=\"text-align: right;\">\n",
       "      <th></th>\n",
       "      <th>用户名</th>\n",
       "      <th>recent</th>\n",
       "      <th>freq</th>\n",
       "      <th>recent_value</th>\n",
       "      <th>freq_value</th>\n",
       "      <th>rfm</th>\n",
       "    </tr>\n",
       "  </thead>\n",
       "  <tbody>\n",
       "    <tr>\n",
       "      <th>0</th>\n",
       "      <td>4913</td>\n",
       "      <td>4</td>\n",
       "      <td>6</td>\n",
       "      <td>2</td>\n",
       "      <td>1</td>\n",
       "      <td>21</td>\n",
       "    </tr>\n",
       "    <tr>\n",
       "      <th>1</th>\n",
       "      <td>6118</td>\n",
       "      <td>3</td>\n",
       "      <td>1</td>\n",
       "      <td>2</td>\n",
       "      <td>1</td>\n",
       "      <td>21</td>\n",
       "    </tr>\n",
       "    <tr>\n",
       "      <th>2</th>\n",
       "      <td>7528</td>\n",
       "      <td>7</td>\n",
       "      <td>6</td>\n",
       "      <td>1</td>\n",
       "      <td>1</td>\n",
       "      <td>11</td>\n",
       "    </tr>\n",
       "    <tr>\n",
       "      <th>3</th>\n",
       "      <td>7591</td>\n",
       "      <td>7</td>\n",
       "      <td>21</td>\n",
       "      <td>1</td>\n",
       "      <td>2</td>\n",
       "      <td>12</td>\n",
       "    </tr>\n",
       "    <tr>\n",
       "      <th>4</th>\n",
       "      <td>12645</td>\n",
       "      <td>6</td>\n",
       "      <td>8</td>\n",
       "      <td>2</td>\n",
       "      <td>1</td>\n",
       "      <td>21</td>\n",
       "    </tr>\n",
       "    <tr>\n",
       "      <th>...</th>\n",
       "      <td>...</td>\n",
       "      <td>...</td>\n",
       "      <td>...</td>\n",
       "      <td>...</td>\n",
       "      <td>...</td>\n",
       "      <td>...</td>\n",
       "    </tr>\n",
       "    <tr>\n",
       "      <th>8881</th>\n",
       "      <td>142376113</td>\n",
       "      <td>12</td>\n",
       "      <td>1</td>\n",
       "      <td>1</td>\n",
       "      <td>1</td>\n",
       "      <td>11</td>\n",
       "    </tr>\n",
       "    <tr>\n",
       "      <th>8882</th>\n",
       "      <td>142412247</td>\n",
       "      <td>5</td>\n",
       "      <td>12</td>\n",
       "      <td>2</td>\n",
       "      <td>2</td>\n",
       "      <td>22</td>\n",
       "    </tr>\n",
       "    <tr>\n",
       "      <th>8883</th>\n",
       "      <td>142430177</td>\n",
       "      <td>2</td>\n",
       "      <td>5</td>\n",
       "      <td>2</td>\n",
       "      <td>1</td>\n",
       "      <td>21</td>\n",
       "    </tr>\n",
       "    <tr>\n",
       "      <th>8884</th>\n",
       "      <td>142450275</td>\n",
       "      <td>7</td>\n",
       "      <td>40</td>\n",
       "      <td>1</td>\n",
       "      <td>2</td>\n",
       "      <td>12</td>\n",
       "    </tr>\n",
       "    <tr>\n",
       "      <th>8885</th>\n",
       "      <td>142455899</td>\n",
       "      <td>16</td>\n",
       "      <td>13</td>\n",
       "      <td>1</td>\n",
       "      <td>2</td>\n",
       "      <td>12</td>\n",
       "    </tr>\n",
       "  </tbody>\n",
       "</table>\n",
       "<p>8886 rows × 6 columns</p>\n",
       "</div>"
      ],
      "text/plain": [
       "            用户名  recent  freq recent_value freq_value rfm\n",
       "0          4913       4     6            2          1  21\n",
       "1          6118       3     1            2          1  21\n",
       "2          7528       7     6            1          1  11\n",
       "3          7591       7    21            1          2  12\n",
       "4         12645       6     8            2          1  21\n",
       "...         ...     ...   ...          ...        ...  ..\n",
       "8881  142376113      12     1            1          1  11\n",
       "8882  142412247       5    12            2          2  22\n",
       "8883  142430177       2     5            2          1  21\n",
       "8884  142450275       7    40            1          2  12\n",
       "8885  142455899      16    13            1          2  12\n",
       "\n",
       "[8886 rows x 6 columns]"
      ]
     },
     "execution_count": 84,
     "metadata": {},
     "output_type": "execute_result"
    }
   ],
   "source": [
    "rfm"
   ]
  },
  {
   "cell_type": "code",
   "execution_count": 85,
   "id": "fluid-dealer",
   "metadata": {},
   "outputs": [],
   "source": [
    "def trans_value(x):\n",
    "    if x == '22':\n",
    "        return '重要价值客户'\n",
    "    elif x == '21':\n",
    "        return '重要深耕客户'\n",
    "    elif x == '12':\n",
    "        return '重要唤回客户'\n",
    "    else: \n",
    "        return '流失客户'"
   ]
  },
  {
   "cell_type": "code",
   "execution_count": 86,
   "id": "stone-tragedy",
   "metadata": {},
   "outputs": [
    {
     "data": {
      "text/plain": [
       "重要价值客户    3179\n",
       "流失客户      2767\n",
       "重要深耕客户    1721\n",
       "重要唤回客户    1219\n",
       "Name: 用户等级, dtype: int64"
      ]
     },
     "execution_count": 86,
     "metadata": {},
     "output_type": "execute_result"
    }
   ],
   "source": [
    "rfm['用户等级']=rfm['rfm'].apply(trans_value)\n",
    "rfm['用户等级'].value_counts()"
   ]
  },
  {
   "cell_type": "markdown",
   "id": "hazardous-penguin",
   "metadata": {},
   "source": [
    "转化率分析"
   ]
  },
  {
   "cell_type": "code",
   "execution_count": 90,
   "id": "committed-vitamin",
   "metadata": {},
   "outputs": [],
   "source": [
    "#不同品类用户行为转化率\n",
    "data_category=dt[dt.用户行为类型!=2].groupby(['品类名','用户行为类型']).operation.count().unstack(1).rename(columns={1:'点击量',3:'加入购物车量',4:'购买量'}).fillna(0)"
   ]
  },
  {
   "cell_type": "code",
   "execution_count": 88,
   "id": "ethical-clinton",
   "metadata": {},
   "outputs": [
    {
     "data": {
      "text/html": [
       "<div>\n",
       "<style scoped>\n",
       "    .dataframe tbody tr th:only-of-type {\n",
       "        vertical-align: middle;\n",
       "    }\n",
       "\n",
       "    .dataframe tbody tr th {\n",
       "        vertical-align: top;\n",
       "    }\n",
       "\n",
       "    .dataframe thead th {\n",
       "        text-align: right;\n",
       "    }\n",
       "</style>\n",
       "<table border=\"1\" class=\"dataframe\">\n",
       "  <thead>\n",
       "    <tr style=\"text-align: right;\">\n",
       "      <th>用户行为类型</th>\n",
       "      <th>点击量</th>\n",
       "      <th>加入购物车量</th>\n",
       "      <th>购买量</th>\n",
       "    </tr>\n",
       "    <tr>\n",
       "      <th>品类名</th>\n",
       "      <th></th>\n",
       "      <th></th>\n",
       "      <th></th>\n",
       "    </tr>\n",
       "  </thead>\n",
       "  <tbody>\n",
       "    <tr>\n",
       "      <th>2</th>\n",
       "      <td>3.0</td>\n",
       "      <td>0.0</td>\n",
       "      <td>0.0</td>\n",
       "    </tr>\n",
       "    <tr>\n",
       "      <th>3</th>\n",
       "      <td>3.0</td>\n",
       "      <td>0.0</td>\n",
       "      <td>0.0</td>\n",
       "    </tr>\n",
       "    <tr>\n",
       "      <th>4</th>\n",
       "      <td>1.0</td>\n",
       "      <td>0.0</td>\n",
       "      <td>0.0</td>\n",
       "    </tr>\n",
       "    <tr>\n",
       "      <th>6</th>\n",
       "      <td>10.0</td>\n",
       "      <td>0.0</td>\n",
       "      <td>0.0</td>\n",
       "    </tr>\n",
       "    <tr>\n",
       "      <th>8</th>\n",
       "      <td>976.0</td>\n",
       "      <td>4.0</td>\n",
       "      <td>4.0</td>\n",
       "    </tr>\n",
       "    <tr>\n",
       "      <th>...</th>\n",
       "      <td>...</td>\n",
       "      <td>...</td>\n",
       "      <td>...</td>\n",
       "    </tr>\n",
       "    <tr>\n",
       "      <th>14075</th>\n",
       "      <td>44.0</td>\n",
       "      <td>3.0</td>\n",
       "      <td>1.0</td>\n",
       "    </tr>\n",
       "    <tr>\n",
       "      <th>14076</th>\n",
       "      <td>28.0</td>\n",
       "      <td>1.0</td>\n",
       "      <td>0.0</td>\n",
       "    </tr>\n",
       "    <tr>\n",
       "      <th>14078</th>\n",
       "      <td>60.0</td>\n",
       "      <td>0.0</td>\n",
       "      <td>0.0</td>\n",
       "    </tr>\n",
       "    <tr>\n",
       "      <th>14079</th>\n",
       "      <td>93007.0</td>\n",
       "      <td>2515.0</td>\n",
       "      <td>479.0</td>\n",
       "    </tr>\n",
       "    <tr>\n",
       "      <th>14080</th>\n",
       "      <td>86.0</td>\n",
       "      <td>1.0</td>\n",
       "      <td>0.0</td>\n",
       "    </tr>\n",
       "  </tbody>\n",
       "</table>\n",
       "<p>8916 rows × 3 columns</p>\n",
       "</div>"
      ],
      "text/plain": [
       "用户行为类型      点击量  加入购物车量    购买量\n",
       "品类名                           \n",
       "2           3.0     0.0    0.0\n",
       "3           3.0     0.0    0.0\n",
       "4           1.0     0.0    0.0\n",
       "6          10.0     0.0    0.0\n",
       "8         976.0     4.0    4.0\n",
       "...         ...     ...    ...\n",
       "14075      44.0     3.0    1.0\n",
       "14076      28.0     1.0    0.0\n",
       "14078      60.0     0.0    0.0\n",
       "14079   93007.0  2515.0  479.0\n",
       "14080      86.0     1.0    0.0\n",
       "\n",
       "[8916 rows x 3 columns]"
      ]
     },
     "execution_count": 88,
     "metadata": {},
     "output_type": "execute_result"
    }
   ],
   "source": [
    "data_category"
   ]
  },
  {
   "cell_type": "code",
   "execution_count": 89,
   "id": "christian-talent",
   "metadata": {},
   "outputs": [
    {
     "data": {
      "text/html": [
       "<div>\n",
       "<style scoped>\n",
       "    .dataframe tbody tr th:only-of-type {\n",
       "        vertical-align: middle;\n",
       "    }\n",
       "\n",
       "    .dataframe tbody tr th {\n",
       "        vertical-align: top;\n",
       "    }\n",
       "\n",
       "    .dataframe thead th {\n",
       "        text-align: right;\n",
       "    }\n",
       "</style>\n",
       "<table border=\"1\" class=\"dataframe\">\n",
       "  <thead>\n",
       "    <tr style=\"text-align: right;\">\n",
       "      <th>用户行为类型</th>\n",
       "      <th>点击量</th>\n",
       "      <th>加入购物车量</th>\n",
       "      <th>购买量</th>\n",
       "      <th>转化率</th>\n",
       "    </tr>\n",
       "  </thead>\n",
       "  <tbody>\n",
       "    <tr>\n",
       "      <th>count</th>\n",
       "      <td>8913.000000</td>\n",
       "      <td>8913.000000</td>\n",
       "      <td>8913.000000</td>\n",
       "      <td>8913.000000</td>\n",
       "    </tr>\n",
       "    <tr>\n",
       "      <th>mean</th>\n",
       "      <td>1295.925165</td>\n",
       "      <td>38.546281</td>\n",
       "      <td>13.486144</td>\n",
       "      <td>0.015704</td>\n",
       "    </tr>\n",
       "    <tr>\n",
       "      <th>std</th>\n",
       "      <td>10253.444455</td>\n",
       "      <td>246.916188</td>\n",
       "      <td>68.185612</td>\n",
       "      <td>0.038207</td>\n",
       "    </tr>\n",
       "    <tr>\n",
       "      <th>min</th>\n",
       "      <td>0.000000</td>\n",
       "      <td>0.000000</td>\n",
       "      <td>0.000000</td>\n",
       "      <td>0.000000</td>\n",
       "    </tr>\n",
       "    <tr>\n",
       "      <th>25%</th>\n",
       "      <td>11.000000</td>\n",
       "      <td>0.000000</td>\n",
       "      <td>0.000000</td>\n",
       "      <td>0.000000</td>\n",
       "    </tr>\n",
       "    <tr>\n",
       "      <th>50%</th>\n",
       "      <td>64.000000</td>\n",
       "      <td>2.000000</td>\n",
       "      <td>1.000000</td>\n",
       "      <td>0.003086</td>\n",
       "    </tr>\n",
       "    <tr>\n",
       "      <th>75%</th>\n",
       "      <td>352.000000</td>\n",
       "      <td>12.000000</td>\n",
       "      <td>5.000000</td>\n",
       "      <td>0.019324</td>\n",
       "    </tr>\n",
       "    <tr>\n",
       "      <th>max</th>\n",
       "      <td>371738.000000</td>\n",
       "      <td>9309.000000</td>\n",
       "      <td>2208.000000</td>\n",
       "      <td>1.000000</td>\n",
       "    </tr>\n",
       "  </tbody>\n",
       "</table>\n",
       "</div>"
      ],
      "text/plain": [
       "用户行为类型            点击量       加入购物车量          购买量          转化率\n",
       "count     8913.000000  8913.000000  8913.000000  8913.000000\n",
       "mean      1295.925165    38.546281    13.486144     0.015704\n",
       "std      10253.444455   246.916188    68.185612     0.038207\n",
       "min          0.000000     0.000000     0.000000     0.000000\n",
       "25%         11.000000     0.000000     0.000000     0.000000\n",
       "50%         64.000000     2.000000     1.000000     0.003086\n",
       "75%        352.000000    12.000000     5.000000     0.019324\n",
       "max     371738.000000  9309.000000  2208.000000     1.000000"
      ]
     },
     "execution_count": 89,
     "metadata": {},
     "output_type": "execute_result"
    }
   ],
   "source": [
    "#转化率计算\n",
    "data_category['转化率']=data_category['购买量']/data_category['点击量']\n",
    "data_category=data_category.fillna(0) #空值填充为0\n",
    "data_category=data_category[data_category['转化率']<=1]\n",
    "data_category.describe()"
   ]
  },
  {
   "cell_type": "code",
   "execution_count": 91,
   "id": "negative-france",
   "metadata": {},
   "outputs": [
    {
     "data": {
      "text/html": [
       "<div>\n",
       "<style scoped>\n",
       "    .dataframe tbody tr th:only-of-type {\n",
       "        vertical-align: middle;\n",
       "    }\n",
       "\n",
       "    .dataframe tbody tr th {\n",
       "        vertical-align: top;\n",
       "    }\n",
       "\n",
       "    .dataframe thead th {\n",
       "        text-align: right;\n",
       "    }\n",
       "</style>\n",
       "<table border=\"1\" class=\"dataframe\">\n",
       "  <thead>\n",
       "    <tr style=\"text-align: right;\">\n",
       "      <th>用户行为类型</th>\n",
       "      <th>点击量</th>\n",
       "      <th>加入购物车量</th>\n",
       "      <th>购买量</th>\n",
       "    </tr>\n",
       "    <tr>\n",
       "      <th>品类名</th>\n",
       "      <th></th>\n",
       "      <th></th>\n",
       "      <th></th>\n",
       "    </tr>\n",
       "  </thead>\n",
       "  <tbody>\n",
       "    <tr>\n",
       "      <th>2</th>\n",
       "      <td>3.0</td>\n",
       "      <td>0.0</td>\n",
       "      <td>0.0</td>\n",
       "    </tr>\n",
       "    <tr>\n",
       "      <th>3</th>\n",
       "      <td>3.0</td>\n",
       "      <td>0.0</td>\n",
       "      <td>0.0</td>\n",
       "    </tr>\n",
       "    <tr>\n",
       "      <th>4</th>\n",
       "      <td>1.0</td>\n",
       "      <td>0.0</td>\n",
       "      <td>0.0</td>\n",
       "    </tr>\n",
       "    <tr>\n",
       "      <th>6</th>\n",
       "      <td>10.0</td>\n",
       "      <td>0.0</td>\n",
       "      <td>0.0</td>\n",
       "    </tr>\n",
       "    <tr>\n",
       "      <th>8</th>\n",
       "      <td>976.0</td>\n",
       "      <td>4.0</td>\n",
       "      <td>4.0</td>\n",
       "    </tr>\n",
       "    <tr>\n",
       "      <th>...</th>\n",
       "      <td>...</td>\n",
       "      <td>...</td>\n",
       "      <td>...</td>\n",
       "    </tr>\n",
       "    <tr>\n",
       "      <th>14075</th>\n",
       "      <td>44.0</td>\n",
       "      <td>3.0</td>\n",
       "      <td>1.0</td>\n",
       "    </tr>\n",
       "    <tr>\n",
       "      <th>14076</th>\n",
       "      <td>28.0</td>\n",
       "      <td>1.0</td>\n",
       "      <td>0.0</td>\n",
       "    </tr>\n",
       "    <tr>\n",
       "      <th>14078</th>\n",
       "      <td>60.0</td>\n",
       "      <td>0.0</td>\n",
       "      <td>0.0</td>\n",
       "    </tr>\n",
       "    <tr>\n",
       "      <th>14079</th>\n",
       "      <td>93007.0</td>\n",
       "      <td>2515.0</td>\n",
       "      <td>479.0</td>\n",
       "    </tr>\n",
       "    <tr>\n",
       "      <th>14080</th>\n",
       "      <td>86.0</td>\n",
       "      <td>1.0</td>\n",
       "      <td>0.0</td>\n",
       "    </tr>\n",
       "  </tbody>\n",
       "</table>\n",
       "<p>8916 rows × 3 columns</p>\n",
       "</div>"
      ],
      "text/plain": [
       "用户行为类型      点击量  加入购物车量    购买量\n",
       "品类名                           \n",
       "2           3.0     0.0    0.0\n",
       "3           3.0     0.0    0.0\n",
       "4           1.0     0.0    0.0\n",
       "6          10.0     0.0    0.0\n",
       "8         976.0     4.0    4.0\n",
       "...         ...     ...    ...\n",
       "14075      44.0     3.0    1.0\n",
       "14076      28.0     1.0    0.0\n",
       "14078      60.0     0.0    0.0\n",
       "14079   93007.0  2515.0  479.0\n",
       "14080      86.0     1.0    0.0\n",
       "\n",
       "[8916 rows x 3 columns]"
      ]
     },
     "execution_count": 91,
     "metadata": {},
     "output_type": "execute_result"
    }
   ],
   "source": [
    "data_category"
   ]
  },
  {
   "cell_type": "code",
   "execution_count": 92,
   "id": "productive-fashion",
   "metadata": {},
   "outputs": [
    {
     "data": {
      "text/html": [
       "<div>\n",
       "<style scoped>\n",
       "    .dataframe tbody tr th:only-of-type {\n",
       "        vertical-align: middle;\n",
       "    }\n",
       "\n",
       "    .dataframe tbody tr th {\n",
       "        vertical-align: top;\n",
       "    }\n",
       "\n",
       "    .dataframe thead th {\n",
       "        text-align: right;\n",
       "    }\n",
       "</style>\n",
       "<table border=\"1\" class=\"dataframe\">\n",
       "  <thead>\n",
       "    <tr style=\"text-align: right;\">\n",
       "      <th>用户行为类型</th>\n",
       "      <th>点击量</th>\n",
       "      <th>加入购物车量</th>\n",
       "      <th>购买量</th>\n",
       "      <th>感兴趣比率</th>\n",
       "    </tr>\n",
       "  </thead>\n",
       "  <tbody>\n",
       "    <tr>\n",
       "      <th>count</th>\n",
       "      <td>1108.000000</td>\n",
       "      <td>1108.000000</td>\n",
       "      <td>1108.000000</td>\n",
       "      <td>1108.000000</td>\n",
       "    </tr>\n",
       "    <tr>\n",
       "      <th>mean</th>\n",
       "      <td>192.059567</td>\n",
       "      <td>3.457581</td>\n",
       "      <td>6.190433</td>\n",
       "      <td>0.543941</td>\n",
       "    </tr>\n",
       "    <tr>\n",
       "      <th>std</th>\n",
       "      <td>453.871132</td>\n",
       "      <td>11.328510</td>\n",
       "      <td>19.522318</td>\n",
       "      <td>0.436003</td>\n",
       "    </tr>\n",
       "    <tr>\n",
       "      <th>min</th>\n",
       "      <td>0.000000</td>\n",
       "      <td>0.000000</td>\n",
       "      <td>1.000000</td>\n",
       "      <td>0.000000</td>\n",
       "    </tr>\n",
       "    <tr>\n",
       "      <th>25%</th>\n",
       "      <td>30.000000</td>\n",
       "      <td>0.000000</td>\n",
       "      <td>1.000000</td>\n",
       "      <td>0.000000</td>\n",
       "    </tr>\n",
       "    <tr>\n",
       "      <th>50%</th>\n",
       "      <td>69.000000</td>\n",
       "      <td>1.000000</td>\n",
       "      <td>2.000000</td>\n",
       "      <td>0.612500</td>\n",
       "    </tr>\n",
       "    <tr>\n",
       "      <th>75%</th>\n",
       "      <td>168.000000</td>\n",
       "      <td>3.000000</td>\n",
       "      <td>5.000000</td>\n",
       "      <td>1.000000</td>\n",
       "    </tr>\n",
       "    <tr>\n",
       "      <th>max</th>\n",
       "      <td>7053.000000</td>\n",
       "      <td>216.000000</td>\n",
       "      <td>373.000000</td>\n",
       "      <td>1.000000</td>\n",
       "    </tr>\n",
       "  </tbody>\n",
       "</table>\n",
       "</div>"
      ],
      "text/plain": [
       "用户行为类型          点击量       加入购物车量          购买量        感兴趣比率\n",
       "count   1108.000000  1108.000000  1108.000000  1108.000000\n",
       "mean     192.059567     3.457581     6.190433     0.543941\n",
       "std      453.871132    11.328510    19.522318     0.436003\n",
       "min        0.000000     0.000000     1.000000     0.000000\n",
       "25%       30.000000     0.000000     1.000000     0.000000\n",
       "50%       69.000000     1.000000     2.000000     0.612500\n",
       "75%      168.000000     3.000000     5.000000     1.000000\n",
       "max     7053.000000   216.000000   373.000000     1.000000"
      ]
     },
     "execution_count": 92,
     "metadata": {},
     "output_type": "execute_result"
    }
   ],
   "source": [
    "\n",
    "\n",
    "data_category['感兴趣比率']=data_category['加入购物车量']/data_category['购买量']\n",
    "data_category=data_category[data_category['感兴趣比率']<=1]\n",
    "data_category.describe()"
   ]
  },
  {
   "cell_type": "code",
   "execution_count": 93,
   "id": "median-prototype",
   "metadata": {},
   "outputs": [
    {
     "data": {
      "text/html": [
       "<div>\n",
       "<style scoped>\n",
       "    .dataframe tbody tr th:only-of-type {\n",
       "        vertical-align: middle;\n",
       "    }\n",
       "\n",
       "    .dataframe tbody tr th {\n",
       "        vertical-align: top;\n",
       "    }\n",
       "\n",
       "    .dataframe thead th {\n",
       "        text-align: right;\n",
       "    }\n",
       "</style>\n",
       "<table border=\"1\" class=\"dataframe\">\n",
       "  <thead>\n",
       "    <tr style=\"text-align: right;\">\n",
       "      <th>用户行为类型</th>\n",
       "      <th>点击量</th>\n",
       "      <th>加入购物车量</th>\n",
       "      <th>购买量</th>\n",
       "      <th>感兴趣比率</th>\n",
       "    </tr>\n",
       "    <tr>\n",
       "      <th>品类名</th>\n",
       "      <th></th>\n",
       "      <th></th>\n",
       "      <th></th>\n",
       "      <th></th>\n",
       "    </tr>\n",
       "  </thead>\n",
       "  <tbody>\n",
       "    <tr>\n",
       "      <th>8</th>\n",
       "      <td>976.0</td>\n",
       "      <td>4.0</td>\n",
       "      <td>4.0</td>\n",
       "      <td>1.000000</td>\n",
       "    </tr>\n",
       "    <tr>\n",
       "      <th>13</th>\n",
       "      <td>99.0</td>\n",
       "      <td>2.0</td>\n",
       "      <td>6.0</td>\n",
       "      <td>0.333333</td>\n",
       "    </tr>\n",
       "    <tr>\n",
       "      <th>15</th>\n",
       "      <td>682.0</td>\n",
       "      <td>4.0</td>\n",
       "      <td>4.0</td>\n",
       "      <td>1.000000</td>\n",
       "    </tr>\n",
       "    <tr>\n",
       "      <th>32</th>\n",
       "      <td>21.0</td>\n",
       "      <td>0.0</td>\n",
       "      <td>1.0</td>\n",
       "      <td>0.000000</td>\n",
       "    </tr>\n",
       "    <tr>\n",
       "      <th>35</th>\n",
       "      <td>174.0</td>\n",
       "      <td>2.0</td>\n",
       "      <td>5.0</td>\n",
       "      <td>0.400000</td>\n",
       "    </tr>\n",
       "    <tr>\n",
       "      <th>46</th>\n",
       "      <td>116.0</td>\n",
       "      <td>2.0</td>\n",
       "      <td>2.0</td>\n",
       "      <td>1.000000</td>\n",
       "    </tr>\n",
       "    <tr>\n",
       "      <th>59</th>\n",
       "      <td>18.0</td>\n",
       "      <td>1.0</td>\n",
       "      <td>1.0</td>\n",
       "      <td>1.000000</td>\n",
       "    </tr>\n",
       "    <tr>\n",
       "      <th>73</th>\n",
       "      <td>36.0</td>\n",
       "      <td>0.0</td>\n",
       "      <td>1.0</td>\n",
       "      <td>0.000000</td>\n",
       "    </tr>\n",
       "    <tr>\n",
       "      <th>80</th>\n",
       "      <td>106.0</td>\n",
       "      <td>3.0</td>\n",
       "      <td>3.0</td>\n",
       "      <td>1.000000</td>\n",
       "    </tr>\n",
       "    <tr>\n",
       "      <th>90</th>\n",
       "      <td>0.0</td>\n",
       "      <td>0.0</td>\n",
       "      <td>1.0</td>\n",
       "      <td>0.000000</td>\n",
       "    </tr>\n",
       "  </tbody>\n",
       "</table>\n",
       "</div>"
      ],
      "text/plain": [
       "用户行为类型    点击量  加入购物车量  购买量     感兴趣比率\n",
       "品类名                                 \n",
       "8       976.0     4.0  4.0  1.000000\n",
       "13       99.0     2.0  6.0  0.333333\n",
       "15      682.0     4.0  4.0  1.000000\n",
       "32       21.0     0.0  1.0  0.000000\n",
       "35      174.0     2.0  5.0  0.400000\n",
       "46      116.0     2.0  2.0  1.000000\n",
       "59       18.0     1.0  1.0  1.000000\n",
       "73       36.0     0.0  1.0  0.000000\n",
       "80      106.0     3.0  3.0  1.000000\n",
       "90        0.0     0.0  1.0  0.000000"
      ]
     },
     "execution_count": 93,
     "metadata": {},
     "output_type": "execute_result"
    }
   ],
   "source": [
    "#查看购买量前10的商品，感兴趣率情况\n",
    "data_category.groupby('品类名').sum()['购买量'].sort_values(ascending=False)\n",
    "data_category.head(10)"
   ]
  },
  {
   "cell_type": "code",
   "execution_count": 95,
   "id": "looking-olive",
   "metadata": {},
   "outputs": [
    {
     "ename": "TypeError",
     "evalue": "`Series.plot()` should not be called with positional arguments, only keyword arguments. The order of positional arguments will change in the future. Use `Series.plot(kind='bar')` instead of `Series.plot('bar',)`.",
     "output_type": "error",
     "traceback": [
      "\u001b[1;31m---------------------------------------------------------------------------\u001b[0m",
      "\u001b[1;31mTypeError\u001b[0m                                 Traceback (most recent call last)",
      "\u001b[1;32m<ipython-input-95-d6fda29da95a>\u001b[0m in \u001b[0;36m<module>\u001b[1;34m\u001b[0m\n\u001b[1;32m----> 1\u001b[1;33m \u001b[0mdata_category\u001b[0m\u001b[1;33m.\u001b[0m\u001b[0mgroupby\u001b[0m\u001b[1;33m(\u001b[0m\u001b[1;34m'品类名'\u001b[0m\u001b[1;33m)\u001b[0m\u001b[1;33m.\u001b[0m\u001b[0msum\u001b[0m\u001b[1;33m(\u001b[0m\u001b[1;33m)\u001b[0m\u001b[1;33m[\u001b[0m\u001b[1;34m'购买量'\u001b[0m\u001b[1;33m]\u001b[0m\u001b[1;33m.\u001b[0m\u001b[0msort_values\u001b[0m\u001b[1;33m(\u001b[0m\u001b[0mascending\u001b[0m\u001b[1;33m=\u001b[0m\u001b[1;32mFalse\u001b[0m\u001b[1;33m)\u001b[0m\u001b[1;33m.\u001b[0m\u001b[0mhead\u001b[0m\u001b[1;33m(\u001b[0m\u001b[1;36m10\u001b[0m\u001b[1;33m)\u001b[0m\u001b[1;33m.\u001b[0m\u001b[0mplot\u001b[0m\u001b[1;33m(\u001b[0m\u001b[1;34m'bar'\u001b[0m\u001b[1;33m)\u001b[0m\u001b[1;33m\u001b[0m\u001b[1;33m\u001b[0m\u001b[0m\n\u001b[0m",
      "\u001b[1;32mc:\\users\\admin\\appdata\\local\\programs\\python\\python37\\lib\\site-packages\\pandas\\plotting\\_core.py\u001b[0m in \u001b[0;36m__call__\u001b[1;34m(self, *args, **kwargs)\u001b[0m\n\u001b[0;32m    876\u001b[0m \u001b[1;33m\u001b[0m\u001b[0m\n\u001b[0;32m    877\u001b[0m         x, y, kind, kwargs = self._get_call_args(\n\u001b[1;32m--> 878\u001b[1;33m             \u001b[0mplot_backend\u001b[0m\u001b[1;33m.\u001b[0m\u001b[0m__name__\u001b[0m\u001b[1;33m,\u001b[0m \u001b[0mself\u001b[0m\u001b[1;33m.\u001b[0m\u001b[0m_parent\u001b[0m\u001b[1;33m,\u001b[0m \u001b[0margs\u001b[0m\u001b[1;33m,\u001b[0m \u001b[0mkwargs\u001b[0m\u001b[1;33m\u001b[0m\u001b[1;33m\u001b[0m\u001b[0m\n\u001b[0m\u001b[0;32m    879\u001b[0m         )\n\u001b[0;32m    880\u001b[0m \u001b[1;33m\u001b[0m\u001b[0m\n",
      "\u001b[1;32mc:\\users\\admin\\appdata\\local\\programs\\python\\python37\\lib\\site-packages\\pandas\\plotting\\_core.py\u001b[0m in \u001b[0;36m_get_call_args\u001b[1;34m(backend_name, data, args, kwargs)\u001b[0m\n\u001b[0;32m    859\u001b[0m                 \u001b[1;34mf\"`Series.plot({positional_args})`.\"\u001b[0m\u001b[1;33m\u001b[0m\u001b[1;33m\u001b[0m\u001b[0m\n\u001b[0;32m    860\u001b[0m             )\n\u001b[1;32m--> 861\u001b[1;33m             \u001b[1;32mraise\u001b[0m \u001b[0mTypeError\u001b[0m\u001b[1;33m(\u001b[0m\u001b[0mmsg\u001b[0m\u001b[1;33m)\u001b[0m\u001b[1;33m\u001b[0m\u001b[1;33m\u001b[0m\u001b[0m\n\u001b[0m\u001b[0;32m    862\u001b[0m \u001b[1;33m\u001b[0m\u001b[0m\n\u001b[0;32m    863\u001b[0m         \u001b[0mpos_args\u001b[0m \u001b[1;33m=\u001b[0m \u001b[1;33m{\u001b[0m\u001b[0mname\u001b[0m\u001b[1;33m:\u001b[0m \u001b[0mvalue\u001b[0m \u001b[1;32mfor\u001b[0m \u001b[0mvalue\u001b[0m\u001b[1;33m,\u001b[0m \u001b[1;33m(\u001b[0m\u001b[0mname\u001b[0m\u001b[1;33m,\u001b[0m \u001b[0m_\u001b[0m\u001b[1;33m)\u001b[0m \u001b[1;32min\u001b[0m \u001b[0mzip\u001b[0m\u001b[1;33m(\u001b[0m\u001b[0margs\u001b[0m\u001b[1;33m,\u001b[0m \u001b[0marg_def\u001b[0m\u001b[1;33m)\u001b[0m\u001b[1;33m}\u001b[0m\u001b[1;33m\u001b[0m\u001b[1;33m\u001b[0m\u001b[0m\n",
      "\u001b[1;31mTypeError\u001b[0m: `Series.plot()` should not be called with positional arguments, only keyword arguments. The order of positional arguments will change in the future. Use `Series.plot(kind='bar')` instead of `Series.plot('bar',)`."
     ]
    }
   ],
   "source": [
    "data_category.groupby('品类名').sum()['购买量'].sort_values(ascending=False).head(10).plot('bar')"
   ]
  },
  {
   "cell_type": "code",
   "execution_count": null,
   "id": "cheap-logging",
   "metadata": {},
   "outputs": [],
   "source": [
    "#前80%销量有15.5%左右的商品品类承包，接近二八原则。但我们也看出有接近20%的销量由84.5%的商品品类提供"
   ]
  }
 ],
 "metadata": {
  "kernelspec": {
   "display_name": "Python 3",
   "language": "python",
   "name": "python3"
  },
  "language_info": {
   "codemirror_mode": {
    "name": "ipython",
    "version": 3
   },
   "file_extension": ".py",
   "mimetype": "text/x-python",
   "name": "python",
   "nbconvert_exporter": "python",
   "pygments_lexer": "ipython3",
   "version": "3.7.9"
  }
 },
 "nbformat": 4,
 "nbformat_minor": 5
}
